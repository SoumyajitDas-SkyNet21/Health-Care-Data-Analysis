{
 "cells": [
  {
   "cell_type": "markdown",
   "id": "1d38ea31-2c15-4c2f-89c5-448484227519",
   "metadata": {},
   "source": [
    "# 🏥 HealthCare Data Analysis\n",
    "This project analyzes a synthetic healthcare dataset containing patient information such as gender, age, diagnosis, treatment costs, admission/discharge dates, and readmission outcomes. The goal is to identify actionable insights for healthcare service improvement."
   ]
  },
  {
   "cell_type": "code",
   "execution_count": 1,
   "id": "83e10aa7-5d35-4f3c-8687-8f8134b13b5b",
   "metadata": {},
   "outputs": [],
   "source": [
    "import pandas as pd \n",
    "import numpy as np\n",
    "import matplotlib.pyplot as plt"
   ]
  },
  {
   "cell_type": "code",
   "execution_count": 2,
   "id": "e06b6e02-48e0-49c3-8999-55f7599763fd",
   "metadata": {},
   "outputs": [],
   "source": [
    "# Importing the dataset \n",
    "health_data=pd.read_excel('Python Practice Datasets/Healthcare_Data.xlsx')"
   ]
  },
  {
   "cell_type": "code",
   "execution_count": 3,
   "id": "bdd228ed-54f0-4324-812a-dd64efebc26c",
   "metadata": {},
   "outputs": [
    {
     "data": {
      "text/html": [
       "<div>\n",
       "<style scoped>\n",
       "    .dataframe tbody tr th:only-of-type {\n",
       "        vertical-align: middle;\n",
       "    }\n",
       "\n",
       "    .dataframe tbody tr th {\n",
       "        vertical-align: top;\n",
       "    }\n",
       "\n",
       "    .dataframe thead th {\n",
       "        text-align: right;\n",
       "    }\n",
       "</style>\n",
       "<table border=\"1\" class=\"dataframe\">\n",
       "  <thead>\n",
       "    <tr style=\"text-align: right;\">\n",
       "      <th></th>\n",
       "      <th>Patient_ID</th>\n",
       "      <th>Name</th>\n",
       "      <th>Gender</th>\n",
       "      <th>Age</th>\n",
       "      <th>City</th>\n",
       "      <th>Admission_Date</th>\n",
       "      <th>Discharge_Date</th>\n",
       "      <th>Department</th>\n",
       "      <th>Doctor_Name</th>\n",
       "      <th>Diagnosis</th>\n",
       "      <th>Treatment_Cost</th>\n",
       "      <th>Payment_Method</th>\n",
       "      <th>Readmission_Within_30_Days</th>\n",
       "      <th>Length_of_Stay</th>\n",
       "      <th>Outcome</th>\n",
       "    </tr>\n",
       "  </thead>\n",
       "  <tbody>\n",
       "    <tr>\n",
       "      <th>0</th>\n",
       "      <td>1</td>\n",
       "      <td>Mr. Ryan Hurst</td>\n",
       "      <td>Male</td>\n",
       "      <td>86</td>\n",
       "      <td>Ashleyview</td>\n",
       "      <td>2025-01-22</td>\n",
       "      <td>2025-02-12</td>\n",
       "      <td>Oncology</td>\n",
       "      <td>Christopher Miller</td>\n",
       "      <td>Tuberculosis</td>\n",
       "      <td>14960.23</td>\n",
       "      <td>Insurance</td>\n",
       "      <td>Yes</td>\n",
       "      <td>21.0</td>\n",
       "      <td>Deceased</td>\n",
       "    </tr>\n",
       "    <tr>\n",
       "      <th>1</th>\n",
       "      <td>2</td>\n",
       "      <td>Pamela Payne</td>\n",
       "      <td>Femal</td>\n",
       "      <td>25</td>\n",
       "      <td>Port Jeremy</td>\n",
       "      <td>2025-01-16</td>\n",
       "      <td>2025-01-30</td>\n",
       "      <td>Oncology</td>\n",
       "      <td>David Guzman</td>\n",
       "      <td>Tuberculosis</td>\n",
       "      <td>2327.06</td>\n",
       "      <td>Medicare</td>\n",
       "      <td>Yes</td>\n",
       "      <td>14.0</td>\n",
       "      <td>Recovered</td>\n",
       "    </tr>\n",
       "    <tr>\n",
       "      <th>2</th>\n",
       "      <td>3</td>\n",
       "      <td>Dana Miller</td>\n",
       "      <td>Mle</td>\n",
       "      <td>43</td>\n",
       "      <td>South Melissa</td>\n",
       "      <td>2024-07-14</td>\n",
       "      <td>2024-07-29</td>\n",
       "      <td>Orthopedics</td>\n",
       "      <td>Derek Shaw</td>\n",
       "      <td>Fracture</td>\n",
       "      <td>NaN</td>\n",
       "      <td>Cash</td>\n",
       "      <td>No</td>\n",
       "      <td>15.0</td>\n",
       "      <td>Ongoing</td>\n",
       "    </tr>\n",
       "    <tr>\n",
       "      <th>3</th>\n",
       "      <td>4</td>\n",
       "      <td>Kristin Herrera</td>\n",
       "      <td>Male</td>\n",
       "      <td>93</td>\n",
       "      <td>Wallacemouth</td>\n",
       "      <td>2025-04-18</td>\n",
       "      <td>2025-04-22</td>\n",
       "      <td>General Medicine</td>\n",
       "      <td>Bethany Harrison</td>\n",
       "      <td>Tuberculosis</td>\n",
       "      <td>2385.97</td>\n",
       "      <td>Insurance</td>\n",
       "      <td>Yes</td>\n",
       "      <td>4.0</td>\n",
       "      <td>Ongoing</td>\n",
       "    </tr>\n",
       "    <tr>\n",
       "      <th>4</th>\n",
       "      <td>5</td>\n",
       "      <td>William Gray</td>\n",
       "      <td>Femal</td>\n",
       "      <td>24</td>\n",
       "      <td>Lake Jamestown</td>\n",
       "      <td>2024-08-02</td>\n",
       "      <td>2024-08-05</td>\n",
       "      <td>Oncology</td>\n",
       "      <td>Francisco Wagner</td>\n",
       "      <td>Hypertension</td>\n",
       "      <td>16673.39</td>\n",
       "      <td>Insurance</td>\n",
       "      <td>No</td>\n",
       "      <td>3.0</td>\n",
       "      <td>Deceased</td>\n",
       "    </tr>\n",
       "  </tbody>\n",
       "</table>\n",
       "</div>"
      ],
      "text/plain": [
       "   Patient_ID             Name Gender  Age            City Admission_Date  \\\n",
       "0           1   Mr. Ryan Hurst   Male   86      Ashleyview     2025-01-22   \n",
       "1           2     Pamela Payne  Femal   25     Port Jeremy     2025-01-16   \n",
       "2           3      Dana Miller    Mle   43   South Melissa     2024-07-14   \n",
       "3           4  Kristin Herrera   Male   93    Wallacemouth     2025-04-18   \n",
       "4           5     William Gray  Femal   24  Lake Jamestown     2024-08-02   \n",
       "\n",
       "  Discharge_Date        Department         Doctor_Name     Diagnosis  \\\n",
       "0     2025-02-12          Oncology  Christopher Miller  Tuberculosis   \n",
       "1     2025-01-30          Oncology        David Guzman  Tuberculosis   \n",
       "2     2024-07-29       Orthopedics          Derek Shaw      Fracture   \n",
       "3     2025-04-22  General Medicine    Bethany Harrison  Tuberculosis   \n",
       "4     2024-08-05          Oncology    Francisco Wagner  Hypertension   \n",
       "\n",
       "   Treatment_Cost Payment_Method Readmission_Within_30_Days  Length_of_Stay  \\\n",
       "0        14960.23      Insurance                        Yes            21.0   \n",
       "1         2327.06       Medicare                        Yes            14.0   \n",
       "2             NaN           Cash                         No            15.0   \n",
       "3         2385.97      Insurance                        Yes             4.0   \n",
       "4        16673.39      Insurance                         No             3.0   \n",
       "\n",
       "     Outcome  \n",
       "0   Deceased  \n",
       "1  Recovered  \n",
       "2    Ongoing  \n",
       "3    Ongoing  \n",
       "4   Deceased  "
      ]
     },
     "execution_count": 3,
     "metadata": {},
     "output_type": "execute_result"
    }
   ],
   "source": [
    "health_data.head(5)"
   ]
  },
  {
   "cell_type": "markdown",
   "id": "31d8e552-52cc-47d0-8728-395a53b06b17",
   "metadata": {},
   "source": [
    "# Data Cleaning and Operations"
   ]
  },
  {
   "cell_type": "markdown",
   "id": "478e7add-e15a-44dd-93bd-bf54c39cc572",
   "metadata": {},
   "source": [
    "#### What is the shape of the dataset ?"
   ]
  },
  {
   "cell_type": "code",
   "execution_count": 4,
   "id": "be37c626-b170-4c44-b2d3-7a6e9831c3dc",
   "metadata": {},
   "outputs": [
    {
     "data": {
      "text/plain": [
       "(555, 15)"
      ]
     },
     "execution_count": 4,
     "metadata": {},
     "output_type": "execute_result"
    }
   ],
   "source": [
    "health_data.shape"
   ]
  },
  {
   "cell_type": "markdown",
   "id": "f46868b5-b13c-4f3d-85fd-ec5436f6d184",
   "metadata": {},
   "source": [
    "#### What is the number of duplicated records ? "
   ]
  },
  {
   "cell_type": "code",
   "execution_count": 5,
   "id": "7e60831a-d92a-4180-9b57-5be20e9b9946",
   "metadata": {},
   "outputs": [
    {
     "data": {
      "text/plain": [
       "np.int64(5)"
      ]
     },
     "execution_count": 5,
     "metadata": {},
     "output_type": "execute_result"
    }
   ],
   "source": [
    "# The number of duplicate records \n",
    "health_data.duplicated().sum()"
   ]
  },
  {
   "cell_type": "markdown",
   "id": "81b4225a-cabe-4375-921a-8ed4b3f567ca",
   "metadata": {},
   "source": [
    "#### Deleting Duplicated Records "
   ]
  },
  {
   "cell_type": "code",
   "execution_count": 6,
   "id": "580d1e5e-71af-4173-af5a-f960e46b807d",
   "metadata": {},
   "outputs": [],
   "source": [
    "# Deleting the duplicate rows \n",
    "health_data.drop_duplicates(inplace=True)"
   ]
  },
  {
   "cell_type": "markdown",
   "id": "83d52f14-fcd0-497f-a561-a3b68e6743fd",
   "metadata": {},
   "source": [
    "#### New DataFrame "
   ]
  },
  {
   "cell_type": "code",
   "execution_count": 7,
   "id": "17750890-ea49-45d2-b503-809eafb55de2",
   "metadata": {},
   "outputs": [
    {
     "data": {
      "text/html": [
       "<div>\n",
       "<style scoped>\n",
       "    .dataframe tbody tr th:only-of-type {\n",
       "        vertical-align: middle;\n",
       "    }\n",
       "\n",
       "    .dataframe tbody tr th {\n",
       "        vertical-align: top;\n",
       "    }\n",
       "\n",
       "    .dataframe thead th {\n",
       "        text-align: right;\n",
       "    }\n",
       "</style>\n",
       "<table border=\"1\" class=\"dataframe\">\n",
       "  <thead>\n",
       "    <tr style=\"text-align: right;\">\n",
       "      <th></th>\n",
       "      <th>Patient_ID</th>\n",
       "      <th>Name</th>\n",
       "      <th>Gender</th>\n",
       "      <th>Age</th>\n",
       "      <th>City</th>\n",
       "      <th>Admission_Date</th>\n",
       "      <th>Discharge_Date</th>\n",
       "      <th>Department</th>\n",
       "      <th>Doctor_Name</th>\n",
       "      <th>Diagnosis</th>\n",
       "      <th>Treatment_Cost</th>\n",
       "      <th>Payment_Method</th>\n",
       "      <th>Readmission_Within_30_Days</th>\n",
       "      <th>Length_of_Stay</th>\n",
       "      <th>Outcome</th>\n",
       "    </tr>\n",
       "  </thead>\n",
       "  <tbody>\n",
       "    <tr>\n",
       "      <th>0</th>\n",
       "      <td>1</td>\n",
       "      <td>Mr. Ryan Hurst</td>\n",
       "      <td>Male</td>\n",
       "      <td>86</td>\n",
       "      <td>Ashleyview</td>\n",
       "      <td>2025-01-22</td>\n",
       "      <td>2025-02-12</td>\n",
       "      <td>Oncology</td>\n",
       "      <td>Christopher Miller</td>\n",
       "      <td>Tuberculosis</td>\n",
       "      <td>14960.23</td>\n",
       "      <td>Insurance</td>\n",
       "      <td>Yes</td>\n",
       "      <td>21.0</td>\n",
       "      <td>Deceased</td>\n",
       "    </tr>\n",
       "    <tr>\n",
       "      <th>1</th>\n",
       "      <td>2</td>\n",
       "      <td>Pamela Payne</td>\n",
       "      <td>Femal</td>\n",
       "      <td>25</td>\n",
       "      <td>Port Jeremy</td>\n",
       "      <td>2025-01-16</td>\n",
       "      <td>2025-01-30</td>\n",
       "      <td>Oncology</td>\n",
       "      <td>David Guzman</td>\n",
       "      <td>Tuberculosis</td>\n",
       "      <td>2327.06</td>\n",
       "      <td>Medicare</td>\n",
       "      <td>Yes</td>\n",
       "      <td>14.0</td>\n",
       "      <td>Recovered</td>\n",
       "    </tr>\n",
       "    <tr>\n",
       "      <th>2</th>\n",
       "      <td>3</td>\n",
       "      <td>Dana Miller</td>\n",
       "      <td>Mle</td>\n",
       "      <td>43</td>\n",
       "      <td>South Melissa</td>\n",
       "      <td>2024-07-14</td>\n",
       "      <td>2024-07-29</td>\n",
       "      <td>Orthopedics</td>\n",
       "      <td>Derek Shaw</td>\n",
       "      <td>Fracture</td>\n",
       "      <td>NaN</td>\n",
       "      <td>Cash</td>\n",
       "      <td>No</td>\n",
       "      <td>15.0</td>\n",
       "      <td>Ongoing</td>\n",
       "    </tr>\n",
       "    <tr>\n",
       "      <th>3</th>\n",
       "      <td>4</td>\n",
       "      <td>Kristin Herrera</td>\n",
       "      <td>Male</td>\n",
       "      <td>93</td>\n",
       "      <td>Wallacemouth</td>\n",
       "      <td>2025-04-18</td>\n",
       "      <td>2025-04-22</td>\n",
       "      <td>General Medicine</td>\n",
       "      <td>Bethany Harrison</td>\n",
       "      <td>Tuberculosis</td>\n",
       "      <td>2385.97</td>\n",
       "      <td>Insurance</td>\n",
       "      <td>Yes</td>\n",
       "      <td>4.0</td>\n",
       "      <td>Ongoing</td>\n",
       "    </tr>\n",
       "    <tr>\n",
       "      <th>4</th>\n",
       "      <td>5</td>\n",
       "      <td>William Gray</td>\n",
       "      <td>Femal</td>\n",
       "      <td>24</td>\n",
       "      <td>Lake Jamestown</td>\n",
       "      <td>2024-08-02</td>\n",
       "      <td>2024-08-05</td>\n",
       "      <td>Oncology</td>\n",
       "      <td>Francisco Wagner</td>\n",
       "      <td>Hypertension</td>\n",
       "      <td>16673.39</td>\n",
       "      <td>Insurance</td>\n",
       "      <td>No</td>\n",
       "      <td>3.0</td>\n",
       "      <td>Deceased</td>\n",
       "    </tr>\n",
       "    <tr>\n",
       "      <th>...</th>\n",
       "      <td>...</td>\n",
       "      <td>...</td>\n",
       "      <td>...</td>\n",
       "      <td>...</td>\n",
       "      <td>...</td>\n",
       "      <td>...</td>\n",
       "      <td>...</td>\n",
       "      <td>...</td>\n",
       "      <td>...</td>\n",
       "      <td>...</td>\n",
       "      <td>...</td>\n",
       "      <td>...</td>\n",
       "      <td>...</td>\n",
       "      <td>...</td>\n",
       "      <td>...</td>\n",
       "    </tr>\n",
       "    <tr>\n",
       "      <th>545</th>\n",
       "      <td>546</td>\n",
       "      <td>Daniel Hansen</td>\n",
       "      <td>Femal</td>\n",
       "      <td>77</td>\n",
       "      <td>West Jerryview</td>\n",
       "      <td>2024-09-20</td>\n",
       "      <td>2024-09-25</td>\n",
       "      <td>Orthopedics</td>\n",
       "      <td>Holly Roth</td>\n",
       "      <td>Migraine</td>\n",
       "      <td>7305.89</td>\n",
       "      <td>Insurance</td>\n",
       "      <td>Yes</td>\n",
       "      <td>5.0</td>\n",
       "      <td>Recovered</td>\n",
       "    </tr>\n",
       "    <tr>\n",
       "      <th>546</th>\n",
       "      <td>547</td>\n",
       "      <td>Derrick Graham</td>\n",
       "      <td>Femal</td>\n",
       "      <td>73</td>\n",
       "      <td>West Laurie</td>\n",
       "      <td>2024-07-24</td>\n",
       "      <td>2024-07-28</td>\n",
       "      <td>Gastroenterology</td>\n",
       "      <td>John Allen</td>\n",
       "      <td>Tuberculosis</td>\n",
       "      <td>3975.84</td>\n",
       "      <td>Cash</td>\n",
       "      <td>No</td>\n",
       "      <td>4.0</td>\n",
       "      <td>Ongoing</td>\n",
       "    </tr>\n",
       "    <tr>\n",
       "      <th>547</th>\n",
       "      <td>548</td>\n",
       "      <td>Derek Walters</td>\n",
       "      <td>Other</td>\n",
       "      <td>48</td>\n",
       "      <td>Delacruzborough</td>\n",
       "      <td>2024-05-20</td>\n",
       "      <td>2024-06-13</td>\n",
       "      <td>Gastroenterology</td>\n",
       "      <td>Dennis Baker</td>\n",
       "      <td>Hypertension</td>\n",
       "      <td>18663.86</td>\n",
       "      <td>Medicare</td>\n",
       "      <td>No</td>\n",
       "      <td>24.0</td>\n",
       "      <td>Deceased</td>\n",
       "    </tr>\n",
       "    <tr>\n",
       "      <th>548</th>\n",
       "      <td>549</td>\n",
       "      <td>Meghan Kelly</td>\n",
       "      <td>Femal</td>\n",
       "      <td>52</td>\n",
       "      <td>Gonzalezhaven</td>\n",
       "      <td>2024-11-30</td>\n",
       "      <td>2024-12-03</td>\n",
       "      <td>Pediatrics</td>\n",
       "      <td>Rebecca Hall</td>\n",
       "      <td>Asthma</td>\n",
       "      <td>3123.64</td>\n",
       "      <td>Cash</td>\n",
       "      <td>No</td>\n",
       "      <td>3.0</td>\n",
       "      <td>Deceased</td>\n",
       "    </tr>\n",
       "    <tr>\n",
       "      <th>549</th>\n",
       "      <td>550</td>\n",
       "      <td>Michelle Mcguire</td>\n",
       "      <td>Mle</td>\n",
       "      <td>92</td>\n",
       "      <td>Rossland</td>\n",
       "      <td>2025-03-13</td>\n",
       "      <td>2025-03-15</td>\n",
       "      <td>Oncology</td>\n",
       "      <td>Kimberly Patterson</td>\n",
       "      <td>Cancer</td>\n",
       "      <td>14729.71</td>\n",
       "      <td>Medicare</td>\n",
       "      <td>Yes</td>\n",
       "      <td>2.0</td>\n",
       "      <td>Deceased</td>\n",
       "    </tr>\n",
       "  </tbody>\n",
       "</table>\n",
       "<p>550 rows × 15 columns</p>\n",
       "</div>"
      ],
      "text/plain": [
       "     Patient_ID              Name Gender  Age             City Admission_Date  \\\n",
       "0             1    Mr. Ryan Hurst   Male   86       Ashleyview     2025-01-22   \n",
       "1             2      Pamela Payne  Femal   25      Port Jeremy     2025-01-16   \n",
       "2             3       Dana Miller    Mle   43    South Melissa     2024-07-14   \n",
       "3             4   Kristin Herrera   Male   93     Wallacemouth     2025-04-18   \n",
       "4             5      William Gray  Femal   24   Lake Jamestown     2024-08-02   \n",
       "..          ...               ...    ...  ...              ...            ...   \n",
       "545         546     Daniel Hansen  Femal   77   West Jerryview     2024-09-20   \n",
       "546         547    Derrick Graham  Femal   73      West Laurie     2024-07-24   \n",
       "547         548     Derek Walters  Other   48  Delacruzborough     2024-05-20   \n",
       "548         549      Meghan Kelly  Femal   52    Gonzalezhaven     2024-11-30   \n",
       "549         550  Michelle Mcguire    Mle   92         Rossland     2025-03-13   \n",
       "\n",
       "    Discharge_Date        Department         Doctor_Name     Diagnosis  \\\n",
       "0       2025-02-12          Oncology  Christopher Miller  Tuberculosis   \n",
       "1       2025-01-30          Oncology        David Guzman  Tuberculosis   \n",
       "2       2024-07-29       Orthopedics          Derek Shaw      Fracture   \n",
       "3       2025-04-22  General Medicine    Bethany Harrison  Tuberculosis   \n",
       "4       2024-08-05          Oncology    Francisco Wagner  Hypertension   \n",
       "..             ...               ...                 ...           ...   \n",
       "545     2024-09-25       Orthopedics          Holly Roth      Migraine   \n",
       "546     2024-07-28  Gastroenterology          John Allen  Tuberculosis   \n",
       "547     2024-06-13  Gastroenterology        Dennis Baker  Hypertension   \n",
       "548     2024-12-03        Pediatrics        Rebecca Hall        Asthma   \n",
       "549     2025-03-15          Oncology  Kimberly Patterson        Cancer   \n",
       "\n",
       "     Treatment_Cost Payment_Method Readmission_Within_30_Days  Length_of_Stay  \\\n",
       "0          14960.23      Insurance                        Yes            21.0   \n",
       "1           2327.06       Medicare                        Yes            14.0   \n",
       "2               NaN           Cash                         No            15.0   \n",
       "3           2385.97      Insurance                        Yes             4.0   \n",
       "4          16673.39      Insurance                         No             3.0   \n",
       "..              ...            ...                        ...             ...   \n",
       "545         7305.89      Insurance                        Yes             5.0   \n",
       "546         3975.84           Cash                         No             4.0   \n",
       "547        18663.86       Medicare                         No            24.0   \n",
       "548         3123.64           Cash                         No             3.0   \n",
       "549        14729.71       Medicare                        Yes             2.0   \n",
       "\n",
       "       Outcome  \n",
       "0     Deceased  \n",
       "1    Recovered  \n",
       "2      Ongoing  \n",
       "3      Ongoing  \n",
       "4     Deceased  \n",
       "..         ...  \n",
       "545  Recovered  \n",
       "546    Ongoing  \n",
       "547   Deceased  \n",
       "548   Deceased  \n",
       "549   Deceased  \n",
       "\n",
       "[550 rows x 15 columns]"
      ]
     },
     "execution_count": 7,
     "metadata": {},
     "output_type": "execute_result"
    }
   ],
   "source": [
    "# New, unique data \n",
    "health_data"
   ]
  },
  {
   "cell_type": "markdown",
   "id": "07a10a2e-e3fd-4b21-b498-cd35d28bc350",
   "metadata": {},
   "source": [
    "#### Missing Data in Dataset"
   ]
  },
  {
   "cell_type": "code",
   "execution_count": 8,
   "id": "7ac25d8c-bbbc-4f3d-bb4b-db769b4e101c",
   "metadata": {},
   "outputs": [
    {
     "data": {
      "text/plain": [
       "Patient_ID                     0\n",
       "Name                           0\n",
       "Gender                         0\n",
       "Age                            0\n",
       "City                           0\n",
       "Admission_Date                 0\n",
       "Discharge_Date                 6\n",
       "Department                     0\n",
       "Doctor_Name                    0\n",
       "Diagnosis                      0\n",
       "Treatment_Cost                16\n",
       "Payment_Method                 0\n",
       "Readmission_Within_30_Days     0\n",
       "Length_of_Stay                 6\n",
       "Outcome                        0\n",
       "dtype: int64"
      ]
     },
     "execution_count": 8,
     "metadata": {},
     "output_type": "execute_result"
    }
   ],
   "source": [
    "health_data.isnull().sum()"
   ]
  },
  {
   "cell_type": "markdown",
   "id": "c976841b-3257-4e83-8389-d83a55790106",
   "metadata": {},
   "source": [
    "#### Missing Value Treatment for Treatment_Cost"
   ]
  },
  {
   "cell_type": "code",
   "execution_count": 9,
   "id": "644ebdd1-53e6-4f6f-b52f-aebb95fa79df",
   "metadata": {},
   "outputs": [
    {
     "data": {
      "text/plain": [
       "0      14960.23\n",
       "1       2327.06\n",
       "2           NaN\n",
       "3       2385.97\n",
       "4      16673.39\n",
       "         ...   \n",
       "545     7305.89\n",
       "546     3975.84\n",
       "547    18663.86\n",
       "548     3123.64\n",
       "549    14729.71\n",
       "Name: Treatment_Cost, Length: 550, dtype: float64"
      ]
     },
     "execution_count": 9,
     "metadata": {},
     "output_type": "execute_result"
    }
   ],
   "source": [
    "health_data['Treatment_Cost']"
   ]
  },
  {
   "cell_type": "code",
   "execution_count": 10,
   "id": "6d11ac74-cb23-45f2-b2f8-214646d490ff",
   "metadata": {},
   "outputs": [],
   "source": [
    "# Replacing the missing values in the treatment column with mean val \n",
    "health_data['Treatment_Cost']=health_data['Treatment_Cost'].fillna(health_data['Treatment_Cost'].mean())"
   ]
  },
  {
   "cell_type": "code",
   "execution_count": 11,
   "id": "f62b3113-6b16-49ec-8294-fa5f9a80b13d",
   "metadata": {},
   "outputs": [
    {
     "data": {
      "text/plain": [
       "np.int64(0)"
      ]
     },
     "execution_count": 11,
     "metadata": {},
     "output_type": "execute_result"
    }
   ],
   "source": [
    "health_data['Treatment_Cost'].isnull().sum()\n",
    "# We can see there is no null data in the Treatment_Cost Column "
   ]
  },
  {
   "cell_type": "markdown",
   "id": "103b1f3a-c015-4bfe-bc92-f7237df99b3c",
   "metadata": {},
   "source": [
    "#### Missing Value Treatment for Discharge Date "
   ]
  },
  {
   "cell_type": "code",
   "execution_count": 12,
   "id": "06f5a8b6-595c-48b0-8947-4aaa495ec714",
   "metadata": {},
   "outputs": [
    {
     "data": {
      "text/html": [
       "<div>\n",
       "<style scoped>\n",
       "    .dataframe tbody tr th:only-of-type {\n",
       "        vertical-align: middle;\n",
       "    }\n",
       "\n",
       "    .dataframe tbody tr th {\n",
       "        vertical-align: top;\n",
       "    }\n",
       "\n",
       "    .dataframe thead th {\n",
       "        text-align: right;\n",
       "    }\n",
       "</style>\n",
       "<table border=\"1\" class=\"dataframe\">\n",
       "  <thead>\n",
       "    <tr style=\"text-align: right;\">\n",
       "      <th></th>\n",
       "      <th>Patient_ID</th>\n",
       "      <th>Name</th>\n",
       "      <th>Gender</th>\n",
       "      <th>Age</th>\n",
       "      <th>City</th>\n",
       "      <th>Admission_Date</th>\n",
       "      <th>Discharge_Date</th>\n",
       "      <th>Department</th>\n",
       "      <th>Doctor_Name</th>\n",
       "      <th>Diagnosis</th>\n",
       "      <th>Treatment_Cost</th>\n",
       "      <th>Payment_Method</th>\n",
       "      <th>Readmission_Within_30_Days</th>\n",
       "      <th>Length_of_Stay</th>\n",
       "      <th>Outcome</th>\n",
       "    </tr>\n",
       "  </thead>\n",
       "  <tbody>\n",
       "    <tr>\n",
       "      <th>155</th>\n",
       "      <td>156</td>\n",
       "      <td>Janet Williams</td>\n",
       "      <td>Other</td>\n",
       "      <td>30</td>\n",
       "      <td>Lindseymouth</td>\n",
       "      <td>2024-05-20</td>\n",
       "      <td>NaT</td>\n",
       "      <td>Pediatrics</td>\n",
       "      <td>Lisa Clark</td>\n",
       "      <td>Arthritis</td>\n",
       "      <td>14511.61</td>\n",
       "      <td>Cash</td>\n",
       "      <td>No</td>\n",
       "      <td>NaN</td>\n",
       "      <td>Deceased</td>\n",
       "    </tr>\n",
       "    <tr>\n",
       "      <th>199</th>\n",
       "      <td>200</td>\n",
       "      <td>Nicole Jones</td>\n",
       "      <td>Femal</td>\n",
       "      <td>20</td>\n",
       "      <td>Coreyland</td>\n",
       "      <td>2024-06-14</td>\n",
       "      <td>NaT</td>\n",
       "      <td>General Medicine</td>\n",
       "      <td>Brittany Watkins</td>\n",
       "      <td>COVID-19</td>\n",
       "      <td>2460.63</td>\n",
       "      <td>Medicare</td>\n",
       "      <td>No</td>\n",
       "      <td>NaN</td>\n",
       "      <td>Deceased</td>\n",
       "    </tr>\n",
       "    <tr>\n",
       "      <th>300</th>\n",
       "      <td>301</td>\n",
       "      <td>Beth Thomas</td>\n",
       "      <td>Female</td>\n",
       "      <td>37</td>\n",
       "      <td>Dennisfurt</td>\n",
       "      <td>2025-03-01</td>\n",
       "      <td>NaT</td>\n",
       "      <td>Pediatrics</td>\n",
       "      <td>Antonio Murphy</td>\n",
       "      <td>Cancer</td>\n",
       "      <td>6882.37</td>\n",
       "      <td>Cash</td>\n",
       "      <td>No</td>\n",
       "      <td>NaN</td>\n",
       "      <td>Ongoing</td>\n",
       "    </tr>\n",
       "    <tr>\n",
       "      <th>439</th>\n",
       "      <td>440</td>\n",
       "      <td>David Smith</td>\n",
       "      <td>Mle</td>\n",
       "      <td>66</td>\n",
       "      <td>Davidborough</td>\n",
       "      <td>2024-10-17</td>\n",
       "      <td>NaT</td>\n",
       "      <td>General Medicine</td>\n",
       "      <td>Julian Medina</td>\n",
       "      <td>Migraine</td>\n",
       "      <td>18088.70</td>\n",
       "      <td>Insurance</td>\n",
       "      <td>No</td>\n",
       "      <td>NaN</td>\n",
       "      <td>Deceased</td>\n",
       "    </tr>\n",
       "    <tr>\n",
       "      <th>442</th>\n",
       "      <td>443</td>\n",
       "      <td>David Jordan</td>\n",
       "      <td>Female</td>\n",
       "      <td>88</td>\n",
       "      <td>Robinborough</td>\n",
       "      <td>2024-08-08</td>\n",
       "      <td>NaT</td>\n",
       "      <td>Gastroenterology</td>\n",
       "      <td>Dean Medina</td>\n",
       "      <td>Migraine</td>\n",
       "      <td>11770.75</td>\n",
       "      <td>Medicare</td>\n",
       "      <td>No</td>\n",
       "      <td>NaN</td>\n",
       "      <td>Ongoing</td>\n",
       "    </tr>\n",
       "    <tr>\n",
       "      <th>458</th>\n",
       "      <td>459</td>\n",
       "      <td>Vanessa Carrillo</td>\n",
       "      <td>Femal</td>\n",
       "      <td>5</td>\n",
       "      <td>West Travisville</td>\n",
       "      <td>2024-06-05</td>\n",
       "      <td>NaT</td>\n",
       "      <td>Gastroenterology</td>\n",
       "      <td>Stephanie Figueroa</td>\n",
       "      <td>COVID-19</td>\n",
       "      <td>19137.70</td>\n",
       "      <td>Credit Card</td>\n",
       "      <td>Yes</td>\n",
       "      <td>NaN</td>\n",
       "      <td>Deceased</td>\n",
       "    </tr>\n",
       "  </tbody>\n",
       "</table>\n",
       "</div>"
      ],
      "text/plain": [
       "     Patient_ID              Name  Gender  Age              City  \\\n",
       "155         156    Janet Williams   Other   30      Lindseymouth   \n",
       "199         200      Nicole Jones   Femal   20         Coreyland   \n",
       "300         301       Beth Thomas  Female   37        Dennisfurt   \n",
       "439         440       David Smith     Mle   66      Davidborough   \n",
       "442         443      David Jordan  Female   88      Robinborough   \n",
       "458         459  Vanessa Carrillo   Femal    5  West Travisville   \n",
       "\n",
       "    Admission_Date Discharge_Date        Department         Doctor_Name  \\\n",
       "155     2024-05-20            NaT        Pediatrics          Lisa Clark   \n",
       "199     2024-06-14            NaT  General Medicine    Brittany Watkins   \n",
       "300     2025-03-01            NaT        Pediatrics      Antonio Murphy   \n",
       "439     2024-10-17            NaT  General Medicine       Julian Medina   \n",
       "442     2024-08-08            NaT  Gastroenterology         Dean Medina   \n",
       "458     2024-06-05            NaT  Gastroenterology  Stephanie Figueroa   \n",
       "\n",
       "     Diagnosis  Treatment_Cost Payment_Method Readmission_Within_30_Days  \\\n",
       "155  Arthritis        14511.61           Cash                         No   \n",
       "199   COVID-19         2460.63       Medicare                         No   \n",
       "300     Cancer         6882.37           Cash                         No   \n",
       "439   Migraine        18088.70      Insurance                         No   \n",
       "442   Migraine        11770.75       Medicare                         No   \n",
       "458   COVID-19        19137.70    Credit Card                        Yes   \n",
       "\n",
       "     Length_of_Stay   Outcome  \n",
       "155             NaN  Deceased  \n",
       "199             NaN  Deceased  \n",
       "300             NaN   Ongoing  \n",
       "439             NaN  Deceased  \n",
       "442             NaN   Ongoing  \n",
       "458             NaN  Deceased  "
      ]
     },
     "execution_count": 12,
     "metadata": {},
     "output_type": "execute_result"
    }
   ],
   "source": [
    "health_data[health_data['Discharge_Date'].isnull()]"
   ]
  },
  {
   "cell_type": "markdown",
   "id": "49bbefab-a094-4373-bc9d-be4665830aff",
   "metadata": {},
   "source": [
    "#### Strategy: Dropping the rows "
   ]
  },
  {
   "cell_type": "code",
   "execution_count": 14,
   "id": "3a8c52e8-194a-4f34-a1b4-8abc3b1bb969",
   "metadata": {},
   "outputs": [],
   "source": [
    "# Dropping this rows\n",
    "health_data = health_data[health_data['Discharge_Date'].notnull()]"
   ]
  },
  {
   "cell_type": "code",
   "execution_count": 16,
   "id": "9b5a56bd-dd02-407b-9f2f-1b1c231126dc",
   "metadata": {},
   "outputs": [
    {
     "data": {
      "text/plain": [
       "np.int64(0)"
      ]
     },
     "execution_count": 16,
     "metadata": {},
     "output_type": "execute_result"
    }
   ],
   "source": [
    "health_data['Discharge_Date'].isnull().sum()"
   ]
  },
  {
   "cell_type": "code",
   "execution_count": 17,
   "id": "a762f776-bb01-4331-ac17-a84ceb91ade2",
   "metadata": {},
   "outputs": [
    {
     "data": {
      "text/html": [
       "<div>\n",
       "<style scoped>\n",
       "    .dataframe tbody tr th:only-of-type {\n",
       "        vertical-align: middle;\n",
       "    }\n",
       "\n",
       "    .dataframe tbody tr th {\n",
       "        vertical-align: top;\n",
       "    }\n",
       "\n",
       "    .dataframe thead th {\n",
       "        text-align: right;\n",
       "    }\n",
       "</style>\n",
       "<table border=\"1\" class=\"dataframe\">\n",
       "  <thead>\n",
       "    <tr style=\"text-align: right;\">\n",
       "      <th></th>\n",
       "      <th>Patient_ID</th>\n",
       "      <th>Name</th>\n",
       "      <th>Gender</th>\n",
       "      <th>Age</th>\n",
       "      <th>City</th>\n",
       "      <th>Admission_Date</th>\n",
       "      <th>Discharge_Date</th>\n",
       "      <th>Department</th>\n",
       "      <th>Doctor_Name</th>\n",
       "      <th>Diagnosis</th>\n",
       "      <th>Treatment_Cost</th>\n",
       "      <th>Payment_Method</th>\n",
       "      <th>Readmission_Within_30_Days</th>\n",
       "      <th>Length_of_Stay</th>\n",
       "      <th>Outcome</th>\n",
       "    </tr>\n",
       "  </thead>\n",
       "  <tbody>\n",
       "    <tr>\n",
       "      <th>0</th>\n",
       "      <td>1</td>\n",
       "      <td>Mr. Ryan Hurst</td>\n",
       "      <td>Male</td>\n",
       "      <td>86</td>\n",
       "      <td>Ashleyview</td>\n",
       "      <td>2025-01-22</td>\n",
       "      <td>2025-02-12</td>\n",
       "      <td>Oncology</td>\n",
       "      <td>Christopher Miller</td>\n",
       "      <td>Tuberculosis</td>\n",
       "      <td>14960.230000</td>\n",
       "      <td>Insurance</td>\n",
       "      <td>Yes</td>\n",
       "      <td>21.0</td>\n",
       "      <td>Deceased</td>\n",
       "    </tr>\n",
       "    <tr>\n",
       "      <th>1</th>\n",
       "      <td>2</td>\n",
       "      <td>Pamela Payne</td>\n",
       "      <td>Femal</td>\n",
       "      <td>25</td>\n",
       "      <td>Port Jeremy</td>\n",
       "      <td>2025-01-16</td>\n",
       "      <td>2025-01-30</td>\n",
       "      <td>Oncology</td>\n",
       "      <td>David Guzman</td>\n",
       "      <td>Tuberculosis</td>\n",
       "      <td>2327.060000</td>\n",
       "      <td>Medicare</td>\n",
       "      <td>Yes</td>\n",
       "      <td>14.0</td>\n",
       "      <td>Recovered</td>\n",
       "    </tr>\n",
       "    <tr>\n",
       "      <th>2</th>\n",
       "      <td>3</td>\n",
       "      <td>Dana Miller</td>\n",
       "      <td>Mle</td>\n",
       "      <td>43</td>\n",
       "      <td>South Melissa</td>\n",
       "      <td>2024-07-14</td>\n",
       "      <td>2024-07-29</td>\n",
       "      <td>Orthopedics</td>\n",
       "      <td>Derek Shaw</td>\n",
       "      <td>Fracture</td>\n",
       "      <td>10378.442079</td>\n",
       "      <td>Cash</td>\n",
       "      <td>No</td>\n",
       "      <td>15.0</td>\n",
       "      <td>Ongoing</td>\n",
       "    </tr>\n",
       "    <tr>\n",
       "      <th>3</th>\n",
       "      <td>4</td>\n",
       "      <td>Kristin Herrera</td>\n",
       "      <td>Male</td>\n",
       "      <td>93</td>\n",
       "      <td>Wallacemouth</td>\n",
       "      <td>2025-04-18</td>\n",
       "      <td>2025-04-22</td>\n",
       "      <td>General Medicine</td>\n",
       "      <td>Bethany Harrison</td>\n",
       "      <td>Tuberculosis</td>\n",
       "      <td>2385.970000</td>\n",
       "      <td>Insurance</td>\n",
       "      <td>Yes</td>\n",
       "      <td>4.0</td>\n",
       "      <td>Ongoing</td>\n",
       "    </tr>\n",
       "    <tr>\n",
       "      <th>4</th>\n",
       "      <td>5</td>\n",
       "      <td>William Gray</td>\n",
       "      <td>Femal</td>\n",
       "      <td>24</td>\n",
       "      <td>Lake Jamestown</td>\n",
       "      <td>2024-08-02</td>\n",
       "      <td>2024-08-05</td>\n",
       "      <td>Oncology</td>\n",
       "      <td>Francisco Wagner</td>\n",
       "      <td>Hypertension</td>\n",
       "      <td>16673.390000</td>\n",
       "      <td>Insurance</td>\n",
       "      <td>No</td>\n",
       "      <td>3.0</td>\n",
       "      <td>Deceased</td>\n",
       "    </tr>\n",
       "    <tr>\n",
       "      <th>...</th>\n",
       "      <td>...</td>\n",
       "      <td>...</td>\n",
       "      <td>...</td>\n",
       "      <td>...</td>\n",
       "      <td>...</td>\n",
       "      <td>...</td>\n",
       "      <td>...</td>\n",
       "      <td>...</td>\n",
       "      <td>...</td>\n",
       "      <td>...</td>\n",
       "      <td>...</td>\n",
       "      <td>...</td>\n",
       "      <td>...</td>\n",
       "      <td>...</td>\n",
       "      <td>...</td>\n",
       "    </tr>\n",
       "    <tr>\n",
       "      <th>545</th>\n",
       "      <td>546</td>\n",
       "      <td>Daniel Hansen</td>\n",
       "      <td>Femal</td>\n",
       "      <td>77</td>\n",
       "      <td>West Jerryview</td>\n",
       "      <td>2024-09-20</td>\n",
       "      <td>2024-09-25</td>\n",
       "      <td>Orthopedics</td>\n",
       "      <td>Holly Roth</td>\n",
       "      <td>Migraine</td>\n",
       "      <td>7305.890000</td>\n",
       "      <td>Insurance</td>\n",
       "      <td>Yes</td>\n",
       "      <td>5.0</td>\n",
       "      <td>Recovered</td>\n",
       "    </tr>\n",
       "    <tr>\n",
       "      <th>546</th>\n",
       "      <td>547</td>\n",
       "      <td>Derrick Graham</td>\n",
       "      <td>Femal</td>\n",
       "      <td>73</td>\n",
       "      <td>West Laurie</td>\n",
       "      <td>2024-07-24</td>\n",
       "      <td>2024-07-28</td>\n",
       "      <td>Gastroenterology</td>\n",
       "      <td>John Allen</td>\n",
       "      <td>Tuberculosis</td>\n",
       "      <td>3975.840000</td>\n",
       "      <td>Cash</td>\n",
       "      <td>No</td>\n",
       "      <td>4.0</td>\n",
       "      <td>Ongoing</td>\n",
       "    </tr>\n",
       "    <tr>\n",
       "      <th>547</th>\n",
       "      <td>548</td>\n",
       "      <td>Derek Walters</td>\n",
       "      <td>Other</td>\n",
       "      <td>48</td>\n",
       "      <td>Delacruzborough</td>\n",
       "      <td>2024-05-20</td>\n",
       "      <td>2024-06-13</td>\n",
       "      <td>Gastroenterology</td>\n",
       "      <td>Dennis Baker</td>\n",
       "      <td>Hypertension</td>\n",
       "      <td>18663.860000</td>\n",
       "      <td>Medicare</td>\n",
       "      <td>No</td>\n",
       "      <td>24.0</td>\n",
       "      <td>Deceased</td>\n",
       "    </tr>\n",
       "    <tr>\n",
       "      <th>548</th>\n",
       "      <td>549</td>\n",
       "      <td>Meghan Kelly</td>\n",
       "      <td>Femal</td>\n",
       "      <td>52</td>\n",
       "      <td>Gonzalezhaven</td>\n",
       "      <td>2024-11-30</td>\n",
       "      <td>2024-12-03</td>\n",
       "      <td>Pediatrics</td>\n",
       "      <td>Rebecca Hall</td>\n",
       "      <td>Asthma</td>\n",
       "      <td>3123.640000</td>\n",
       "      <td>Cash</td>\n",
       "      <td>No</td>\n",
       "      <td>3.0</td>\n",
       "      <td>Deceased</td>\n",
       "    </tr>\n",
       "    <tr>\n",
       "      <th>549</th>\n",
       "      <td>550</td>\n",
       "      <td>Michelle Mcguire</td>\n",
       "      <td>Mle</td>\n",
       "      <td>92</td>\n",
       "      <td>Rossland</td>\n",
       "      <td>2025-03-13</td>\n",
       "      <td>2025-03-15</td>\n",
       "      <td>Oncology</td>\n",
       "      <td>Kimberly Patterson</td>\n",
       "      <td>Cancer</td>\n",
       "      <td>14729.710000</td>\n",
       "      <td>Medicare</td>\n",
       "      <td>Yes</td>\n",
       "      <td>2.0</td>\n",
       "      <td>Deceased</td>\n",
       "    </tr>\n",
       "  </tbody>\n",
       "</table>\n",
       "<p>544 rows × 15 columns</p>\n",
       "</div>"
      ],
      "text/plain": [
       "     Patient_ID              Name Gender  Age             City Admission_Date  \\\n",
       "0             1    Mr. Ryan Hurst   Male   86       Ashleyview     2025-01-22   \n",
       "1             2      Pamela Payne  Femal   25      Port Jeremy     2025-01-16   \n",
       "2             3       Dana Miller    Mle   43    South Melissa     2024-07-14   \n",
       "3             4   Kristin Herrera   Male   93     Wallacemouth     2025-04-18   \n",
       "4             5      William Gray  Femal   24   Lake Jamestown     2024-08-02   \n",
       "..          ...               ...    ...  ...              ...            ...   \n",
       "545         546     Daniel Hansen  Femal   77   West Jerryview     2024-09-20   \n",
       "546         547    Derrick Graham  Femal   73      West Laurie     2024-07-24   \n",
       "547         548     Derek Walters  Other   48  Delacruzborough     2024-05-20   \n",
       "548         549      Meghan Kelly  Femal   52    Gonzalezhaven     2024-11-30   \n",
       "549         550  Michelle Mcguire    Mle   92         Rossland     2025-03-13   \n",
       "\n",
       "    Discharge_Date        Department         Doctor_Name     Diagnosis  \\\n",
       "0       2025-02-12          Oncology  Christopher Miller  Tuberculosis   \n",
       "1       2025-01-30          Oncology        David Guzman  Tuberculosis   \n",
       "2       2024-07-29       Orthopedics          Derek Shaw      Fracture   \n",
       "3       2025-04-22  General Medicine    Bethany Harrison  Tuberculosis   \n",
       "4       2024-08-05          Oncology    Francisco Wagner  Hypertension   \n",
       "..             ...               ...                 ...           ...   \n",
       "545     2024-09-25       Orthopedics          Holly Roth      Migraine   \n",
       "546     2024-07-28  Gastroenterology          John Allen  Tuberculosis   \n",
       "547     2024-06-13  Gastroenterology        Dennis Baker  Hypertension   \n",
       "548     2024-12-03        Pediatrics        Rebecca Hall        Asthma   \n",
       "549     2025-03-15          Oncology  Kimberly Patterson        Cancer   \n",
       "\n",
       "     Treatment_Cost Payment_Method Readmission_Within_30_Days  Length_of_Stay  \\\n",
       "0      14960.230000      Insurance                        Yes            21.0   \n",
       "1       2327.060000       Medicare                        Yes            14.0   \n",
       "2      10378.442079           Cash                         No            15.0   \n",
       "3       2385.970000      Insurance                        Yes             4.0   \n",
       "4      16673.390000      Insurance                         No             3.0   \n",
       "..              ...            ...                        ...             ...   \n",
       "545     7305.890000      Insurance                        Yes             5.0   \n",
       "546     3975.840000           Cash                         No             4.0   \n",
       "547    18663.860000       Medicare                         No            24.0   \n",
       "548     3123.640000           Cash                         No             3.0   \n",
       "549    14729.710000       Medicare                        Yes             2.0   \n",
       "\n",
       "       Outcome  \n",
       "0     Deceased  \n",
       "1    Recovered  \n",
       "2      Ongoing  \n",
       "3      Ongoing  \n",
       "4     Deceased  \n",
       "..         ...  \n",
       "545  Recovered  \n",
       "546    Ongoing  \n",
       "547   Deceased  \n",
       "548   Deceased  \n",
       "549   Deceased  \n",
       "\n",
       "[544 rows x 15 columns]"
      ]
     },
     "execution_count": 17,
     "metadata": {},
     "output_type": "execute_result"
    }
   ],
   "source": [
    "health_data"
   ]
  },
  {
   "cell_type": "markdown",
   "id": "5858b852-511e-4da6-86bd-f9cd67f94801",
   "metadata": {},
   "source": [
    "#### Fixing Gender Column "
   ]
  },
  {
   "cell_type": "code",
   "execution_count": 18,
   "id": "fcf81433-23d1-4657-8706-3ac199e3ca21",
   "metadata": {},
   "outputs": [
    {
     "data": {
      "text/plain": [
       "array(['Male', 'Femal', 'Mle', 'Other', 'Female'], dtype=object)"
      ]
     },
     "execution_count": 18,
     "metadata": {},
     "output_type": "execute_result"
    }
   ],
   "source": [
    "# We need to fix this column\n",
    "health_data['Gender'].unique()"
   ]
  },
  {
   "cell_type": "code",
   "execution_count": 19,
   "id": "fafa7827-a853-4501-acd7-1ca3525464fd",
   "metadata": {},
   "outputs": [
    {
     "name": "stderr",
     "output_type": "stream",
     "text": [
      "C:\\Users\\dassa\\AppData\\Local\\Temp\\ipykernel_1832\\974249914.py:2: SettingWithCopyWarning: \n",
      "A value is trying to be set on a copy of a slice from a DataFrame.\n",
      "Try using .loc[row_indexer,col_indexer] = value instead\n",
      "\n",
      "See the caveats in the documentation: https://pandas.pydata.org/pandas-docs/stable/user_guide/indexing.html#returning-a-view-versus-a-copy\n",
      "  health_data['Gender']=health_data['Gender'].map(data).fillna('Other')\n"
     ]
    }
   ],
   "source": [
    "data={'Male':'Male','Female':'Female','Mle':'Male','Femal':'Female',}\n",
    "health_data['Gender']=health_data['Gender'].map(data).fillna('Other')"
   ]
  },
  {
   "cell_type": "code",
   "execution_count": 27,
   "id": "a3a5f59d-877e-4ec9-bb16-49b9f5fbd72b",
   "metadata": {},
   "outputs": [
    {
     "data": {
      "text/plain": [
       "array(['Male', 'Female', 'Other'], dtype=object)"
      ]
     },
     "execution_count": 27,
     "metadata": {},
     "output_type": "execute_result"
    }
   ],
   "source": [
    "health_data['Gender'].unique()"
   ]
  },
  {
   "cell_type": "code",
   "execution_count": 28,
   "id": "fa04ac84-10ab-460c-9ac0-9faedb528ea0",
   "metadata": {},
   "outputs": [
    {
     "data": {
      "text/plain": [
       "np.int64(0)"
      ]
     },
     "execution_count": 28,
     "metadata": {},
     "output_type": "execute_result"
    }
   ],
   "source": [
    "# There is no missing data \n",
    "health_data['Gender'].isnull().sum()"
   ]
  },
  {
   "cell_type": "markdown",
   "id": "c05cead4-9d10-4233-9240-acf9635fc1a6",
   "metadata": {},
   "source": []
  },
  {
   "cell_type": "code",
   "execution_count": null,
   "id": "ec7b5823-0010-4628-8e83-83e588bd4361",
   "metadata": {},
   "outputs": [],
   "source": []
  },
  {
   "cell_type": "markdown",
   "id": "d1c2dceb-8b99-4a02-a873-2da54800b720",
   "metadata": {},
   "source": [
    "#### DataFrame after fixing Gender Column"
   ]
  },
  {
   "cell_type": "code",
   "execution_count": 29,
   "id": "5a28a405-57d4-4c00-afa1-6cc0e327b323",
   "metadata": {},
   "outputs": [
    {
     "data": {
      "text/html": [
       "<div>\n",
       "<style scoped>\n",
       "    .dataframe tbody tr th:only-of-type {\n",
       "        vertical-align: middle;\n",
       "    }\n",
       "\n",
       "    .dataframe tbody tr th {\n",
       "        vertical-align: top;\n",
       "    }\n",
       "\n",
       "    .dataframe thead th {\n",
       "        text-align: right;\n",
       "    }\n",
       "</style>\n",
       "<table border=\"1\" class=\"dataframe\">\n",
       "  <thead>\n",
       "    <tr style=\"text-align: right;\">\n",
       "      <th></th>\n",
       "      <th>Patient_ID</th>\n",
       "      <th>Name</th>\n",
       "      <th>Gender</th>\n",
       "      <th>Age</th>\n",
       "      <th>City</th>\n",
       "      <th>Admission_Date</th>\n",
       "      <th>Discharge_Date</th>\n",
       "      <th>Department</th>\n",
       "      <th>Doctor_Name</th>\n",
       "      <th>Diagnosis</th>\n",
       "      <th>Treatment_Cost</th>\n",
       "      <th>Payment_Method</th>\n",
       "      <th>Readmission_Within_30_Days</th>\n",
       "      <th>Length_of_Stay</th>\n",
       "      <th>Outcome</th>\n",
       "    </tr>\n",
       "  </thead>\n",
       "  <tbody>\n",
       "    <tr>\n",
       "      <th>0</th>\n",
       "      <td>1</td>\n",
       "      <td>Mr. Ryan Hurst</td>\n",
       "      <td>Male</td>\n",
       "      <td>86</td>\n",
       "      <td>Ashleyview</td>\n",
       "      <td>2025-01-22</td>\n",
       "      <td>2025-02-12</td>\n",
       "      <td>Oncology</td>\n",
       "      <td>Christopher Miller</td>\n",
       "      <td>Tuberculosis</td>\n",
       "      <td>14960.230000</td>\n",
       "      <td>Insurance</td>\n",
       "      <td>Yes</td>\n",
       "      <td>21.0</td>\n",
       "      <td>Deceased</td>\n",
       "    </tr>\n",
       "    <tr>\n",
       "      <th>1</th>\n",
       "      <td>2</td>\n",
       "      <td>Pamela Payne</td>\n",
       "      <td>Female</td>\n",
       "      <td>25</td>\n",
       "      <td>Port Jeremy</td>\n",
       "      <td>2025-01-16</td>\n",
       "      <td>2025-01-30</td>\n",
       "      <td>Oncology</td>\n",
       "      <td>David Guzman</td>\n",
       "      <td>Tuberculosis</td>\n",
       "      <td>2327.060000</td>\n",
       "      <td>Medicare</td>\n",
       "      <td>Yes</td>\n",
       "      <td>14.0</td>\n",
       "      <td>Recovered</td>\n",
       "    </tr>\n",
       "    <tr>\n",
       "      <th>2</th>\n",
       "      <td>3</td>\n",
       "      <td>Dana Miller</td>\n",
       "      <td>Male</td>\n",
       "      <td>43</td>\n",
       "      <td>South Melissa</td>\n",
       "      <td>2024-07-14</td>\n",
       "      <td>2024-07-29</td>\n",
       "      <td>Orthopedics</td>\n",
       "      <td>Derek Shaw</td>\n",
       "      <td>Fracture</td>\n",
       "      <td>10378.442079</td>\n",
       "      <td>Cash</td>\n",
       "      <td>No</td>\n",
       "      <td>15.0</td>\n",
       "      <td>Ongoing</td>\n",
       "    </tr>\n",
       "    <tr>\n",
       "      <th>3</th>\n",
       "      <td>4</td>\n",
       "      <td>Kristin Herrera</td>\n",
       "      <td>Male</td>\n",
       "      <td>93</td>\n",
       "      <td>Wallacemouth</td>\n",
       "      <td>2025-04-18</td>\n",
       "      <td>2025-04-22</td>\n",
       "      <td>General Medicine</td>\n",
       "      <td>Bethany Harrison</td>\n",
       "      <td>Tuberculosis</td>\n",
       "      <td>2385.970000</td>\n",
       "      <td>Insurance</td>\n",
       "      <td>Yes</td>\n",
       "      <td>4.0</td>\n",
       "      <td>Ongoing</td>\n",
       "    </tr>\n",
       "    <tr>\n",
       "      <th>4</th>\n",
       "      <td>5</td>\n",
       "      <td>William Gray</td>\n",
       "      <td>Female</td>\n",
       "      <td>24</td>\n",
       "      <td>Lake Jamestown</td>\n",
       "      <td>2024-08-02</td>\n",
       "      <td>2024-08-05</td>\n",
       "      <td>Oncology</td>\n",
       "      <td>Francisco Wagner</td>\n",
       "      <td>Hypertension</td>\n",
       "      <td>16673.390000</td>\n",
       "      <td>Insurance</td>\n",
       "      <td>No</td>\n",
       "      <td>3.0</td>\n",
       "      <td>Deceased</td>\n",
       "    </tr>\n",
       "    <tr>\n",
       "      <th>...</th>\n",
       "      <td>...</td>\n",
       "      <td>...</td>\n",
       "      <td>...</td>\n",
       "      <td>...</td>\n",
       "      <td>...</td>\n",
       "      <td>...</td>\n",
       "      <td>...</td>\n",
       "      <td>...</td>\n",
       "      <td>...</td>\n",
       "      <td>...</td>\n",
       "      <td>...</td>\n",
       "      <td>...</td>\n",
       "      <td>...</td>\n",
       "      <td>...</td>\n",
       "      <td>...</td>\n",
       "    </tr>\n",
       "    <tr>\n",
       "      <th>545</th>\n",
       "      <td>546</td>\n",
       "      <td>Daniel Hansen</td>\n",
       "      <td>Female</td>\n",
       "      <td>77</td>\n",
       "      <td>West Jerryview</td>\n",
       "      <td>2024-09-20</td>\n",
       "      <td>2024-09-25</td>\n",
       "      <td>Orthopedics</td>\n",
       "      <td>Holly Roth</td>\n",
       "      <td>Migraine</td>\n",
       "      <td>7305.890000</td>\n",
       "      <td>Insurance</td>\n",
       "      <td>Yes</td>\n",
       "      <td>5.0</td>\n",
       "      <td>Recovered</td>\n",
       "    </tr>\n",
       "    <tr>\n",
       "      <th>546</th>\n",
       "      <td>547</td>\n",
       "      <td>Derrick Graham</td>\n",
       "      <td>Female</td>\n",
       "      <td>73</td>\n",
       "      <td>West Laurie</td>\n",
       "      <td>2024-07-24</td>\n",
       "      <td>2024-07-28</td>\n",
       "      <td>Gastroenterology</td>\n",
       "      <td>John Allen</td>\n",
       "      <td>Tuberculosis</td>\n",
       "      <td>3975.840000</td>\n",
       "      <td>Cash</td>\n",
       "      <td>No</td>\n",
       "      <td>4.0</td>\n",
       "      <td>Ongoing</td>\n",
       "    </tr>\n",
       "    <tr>\n",
       "      <th>547</th>\n",
       "      <td>548</td>\n",
       "      <td>Derek Walters</td>\n",
       "      <td>Other</td>\n",
       "      <td>48</td>\n",
       "      <td>Delacruzborough</td>\n",
       "      <td>2024-05-20</td>\n",
       "      <td>2024-06-13</td>\n",
       "      <td>Gastroenterology</td>\n",
       "      <td>Dennis Baker</td>\n",
       "      <td>Hypertension</td>\n",
       "      <td>18663.860000</td>\n",
       "      <td>Medicare</td>\n",
       "      <td>No</td>\n",
       "      <td>24.0</td>\n",
       "      <td>Deceased</td>\n",
       "    </tr>\n",
       "    <tr>\n",
       "      <th>548</th>\n",
       "      <td>549</td>\n",
       "      <td>Meghan Kelly</td>\n",
       "      <td>Female</td>\n",
       "      <td>52</td>\n",
       "      <td>Gonzalezhaven</td>\n",
       "      <td>2024-11-30</td>\n",
       "      <td>2024-12-03</td>\n",
       "      <td>Pediatrics</td>\n",
       "      <td>Rebecca Hall</td>\n",
       "      <td>Asthma</td>\n",
       "      <td>3123.640000</td>\n",
       "      <td>Cash</td>\n",
       "      <td>No</td>\n",
       "      <td>3.0</td>\n",
       "      <td>Deceased</td>\n",
       "    </tr>\n",
       "    <tr>\n",
       "      <th>549</th>\n",
       "      <td>550</td>\n",
       "      <td>Michelle Mcguire</td>\n",
       "      <td>Male</td>\n",
       "      <td>92</td>\n",
       "      <td>Rossland</td>\n",
       "      <td>2025-03-13</td>\n",
       "      <td>2025-03-15</td>\n",
       "      <td>Oncology</td>\n",
       "      <td>Kimberly Patterson</td>\n",
       "      <td>Cancer</td>\n",
       "      <td>14729.710000</td>\n",
       "      <td>Medicare</td>\n",
       "      <td>Yes</td>\n",
       "      <td>2.0</td>\n",
       "      <td>Deceased</td>\n",
       "    </tr>\n",
       "  </tbody>\n",
       "</table>\n",
       "<p>544 rows × 15 columns</p>\n",
       "</div>"
      ],
      "text/plain": [
       "     Patient_ID              Name  Gender  Age             City  \\\n",
       "0             1    Mr. Ryan Hurst    Male   86       Ashleyview   \n",
       "1             2      Pamela Payne  Female   25      Port Jeremy   \n",
       "2             3       Dana Miller    Male   43    South Melissa   \n",
       "3             4   Kristin Herrera    Male   93     Wallacemouth   \n",
       "4             5      William Gray  Female   24   Lake Jamestown   \n",
       "..          ...               ...     ...  ...              ...   \n",
       "545         546     Daniel Hansen  Female   77   West Jerryview   \n",
       "546         547    Derrick Graham  Female   73      West Laurie   \n",
       "547         548     Derek Walters   Other   48  Delacruzborough   \n",
       "548         549      Meghan Kelly  Female   52    Gonzalezhaven   \n",
       "549         550  Michelle Mcguire    Male   92         Rossland   \n",
       "\n",
       "    Admission_Date Discharge_Date        Department         Doctor_Name  \\\n",
       "0       2025-01-22     2025-02-12          Oncology  Christopher Miller   \n",
       "1       2025-01-16     2025-01-30          Oncology        David Guzman   \n",
       "2       2024-07-14     2024-07-29       Orthopedics          Derek Shaw   \n",
       "3       2025-04-18     2025-04-22  General Medicine    Bethany Harrison   \n",
       "4       2024-08-02     2024-08-05          Oncology    Francisco Wagner   \n",
       "..             ...            ...               ...                 ...   \n",
       "545     2024-09-20     2024-09-25       Orthopedics          Holly Roth   \n",
       "546     2024-07-24     2024-07-28  Gastroenterology          John Allen   \n",
       "547     2024-05-20     2024-06-13  Gastroenterology        Dennis Baker   \n",
       "548     2024-11-30     2024-12-03        Pediatrics        Rebecca Hall   \n",
       "549     2025-03-13     2025-03-15          Oncology  Kimberly Patterson   \n",
       "\n",
       "        Diagnosis  Treatment_Cost Payment_Method Readmission_Within_30_Days  \\\n",
       "0    Tuberculosis    14960.230000      Insurance                        Yes   \n",
       "1    Tuberculosis     2327.060000       Medicare                        Yes   \n",
       "2        Fracture    10378.442079           Cash                         No   \n",
       "3    Tuberculosis     2385.970000      Insurance                        Yes   \n",
       "4    Hypertension    16673.390000      Insurance                         No   \n",
       "..            ...             ...            ...                        ...   \n",
       "545      Migraine     7305.890000      Insurance                        Yes   \n",
       "546  Tuberculosis     3975.840000           Cash                         No   \n",
       "547  Hypertension    18663.860000       Medicare                         No   \n",
       "548        Asthma     3123.640000           Cash                         No   \n",
       "549        Cancer    14729.710000       Medicare                        Yes   \n",
       "\n",
       "     Length_of_Stay    Outcome  \n",
       "0              21.0   Deceased  \n",
       "1              14.0  Recovered  \n",
       "2              15.0    Ongoing  \n",
       "3               4.0    Ongoing  \n",
       "4               3.0   Deceased  \n",
       "..              ...        ...  \n",
       "545             5.0  Recovered  \n",
       "546             4.0    Ongoing  \n",
       "547            24.0   Deceased  \n",
       "548             3.0   Deceased  \n",
       "549             2.0   Deceased  \n",
       "\n",
       "[544 rows x 15 columns]"
      ]
     },
     "execution_count": 29,
     "metadata": {},
     "output_type": "execute_result"
    }
   ],
   "source": [
    "health_data"
   ]
  },
  {
   "cell_type": "markdown",
   "id": "18af08f7-56c5-4091-adb9-7603e8610404",
   "metadata": {},
   "source": [
    "# Exploratory Data Analysis (EDA)\n"
   ]
  },
  {
   "cell_type": "markdown",
   "id": "94a8df75-09ca-41e5-b08e-84fec0912691",
   "metadata": {},
   "source": [
    "#### Exploiting Department Column "
   ]
  },
  {
   "cell_type": "code",
   "execution_count": 31,
   "id": "d3ed402e-5713-4547-b61f-4491c0ccc4f6",
   "metadata": {},
   "outputs": [
    {
     "data": {
      "text/plain": [
       "array(['Oncology', 'Orthopedics', 'General Medicine', 'Neurology',\n",
       "       'Gastroenterology', 'Pediatrics', 'Cardiology'], dtype=object)"
      ]
     },
     "execution_count": 31,
     "metadata": {},
     "output_type": "execute_result"
    }
   ],
   "source": [
    "health_data['Department'].unique()"
   ]
  },
  {
   "cell_type": "markdown",
   "id": "3f4aab32-b592-4f79-9e5c-b4e934533776",
   "metadata": {},
   "source": [
    "#### Exploiting Diagnosis Column"
   ]
  },
  {
   "cell_type": "code",
   "execution_count": 28,
   "id": "eebd21d3-7342-4dd4-9e0e-a680f19b16f9",
   "metadata": {},
   "outputs": [
    {
     "data": {
      "text/plain": [
       "array(['Tuberculosis', 'Fracture', 'Hypertension', 'Migraine', 'Diabetes',\n",
       "       'COVID-19', 'Arthritis', 'Asthma', 'Cancer'], dtype=object)"
      ]
     },
     "execution_count": 28,
     "metadata": {},
     "output_type": "execute_result"
    }
   ],
   "source": [
    "health_data['Diagnosis'].unique()"
   ]
  },
  {
   "cell_type": "markdown",
   "id": "49ea8b00-9f48-4f61-a76f-8e87ba5a753b",
   "metadata": {},
   "source": [
    "#### Exploiting Doctors_Name Column"
   ]
  },
  {
   "cell_type": "code",
   "execution_count": 21,
   "id": "605f6562-0ebd-4abb-b193-7090d1365c43",
   "metadata": {},
   "outputs": [
    {
     "data": {
      "text/plain": [
       "array(['Christopher Miller', 'David Guzman', 'Derek Shaw',\n",
       "       'Bethany Harrison', 'Francisco Wagner', 'Erika Taylor',\n",
       "       'Steven Elliott', 'Laura Rodriguez', 'Kaitlin Carter',\n",
       "       'Rachel Garcia', 'Chelsea Allen', 'Natasha Robertson',\n",
       "       'Timothy Holmes', 'Mark Kirk', 'James Baker', 'Nathaniel Kim',\n",
       "       'Sharon Thomas', 'Katherine Smith', 'Karen Richards',\n",
       "       'Kelly Smith', 'Nathan Chandler', 'Amy Johnson', 'Daniel Perkins',\n",
       "       'Randy Hughes', 'Christine Smith', 'Michael Chavez',\n",
       "       'Kevin Weaver', 'Michael Neal', 'Mr. Paul Neal', 'Maria Irwin',\n",
       "       'Jeffery Nelson', 'Sarah Bennett', 'Brittany Moore', 'Ann Brewer',\n",
       "       'Lisa Clark MD', 'Wyatt Alexander', 'Kelly Mullen', 'Shaun Perez',\n",
       "       'Kendra Robertson', 'Jeffrey Flynn', 'Olivia Wilcox',\n",
       "       'Brenda Anderson', 'Michelle Gray', 'Melissa Bauer',\n",
       "       'Carol Rodriguez', 'Frank Snow', 'Scott Norman',\n",
       "       'Christina Medina', 'Austin Johnson', 'Pamela Ray',\n",
       "       'Felicia Alvarado', 'Toni Barber', 'Jessica Lucas', 'Holly Morgan',\n",
       "       'Jennifer Hogan', 'Jennifer Giles', 'Meagan Miller MD',\n",
       "       'Erik Miller', 'Benjamin Dominguez', 'Scott Johnson',\n",
       "       'Jason Gonzalez', 'Bridget Jones', 'David Beard', 'David Douglas',\n",
       "       'Denise Miller', 'Sara Hudson', 'Debra White', 'John Nelson',\n",
       "       'Sherry Thompson', 'Barbara Salazar', 'Mrs. Alyssa Holt MD',\n",
       "       'Brian Rodriguez', 'Gloria Hernandez', 'Kimberly Armstrong',\n",
       "       'Ashley Moore', 'Lisa Martin MD', 'Joe Gallagher', 'Jason Wright',\n",
       "       'Jodi Howard', 'Robert Patterson', 'Matthew Manning',\n",
       "       'Brandon Martinez', 'Courtney Rodgers', 'Eddie Patton',\n",
       "       'Victoria Ryan', 'Amber Humphrey', 'Kara Jones', 'Tony Hill',\n",
       "       'Patricia Reyes', 'Danielle White', 'Marcus Williams',\n",
       "       'Dr. Roger Hunt DDS', 'Nicole Ramirez', 'Mr. William Moore',\n",
       "       'Samantha Howard', 'Hector Raymond', 'Victoria Jefferson',\n",
       "       'Amy Jackson', 'Allison Conway', 'Mary Smith', 'Kevin Martin',\n",
       "       'Lisa Sanders', 'Tami Bennett', 'Jason Rose', 'Angela Reynolds',\n",
       "       'Kimberly Stephens', 'Andrew Shea', 'Adam Bell',\n",
       "       'Justin Walsh Jr.', 'Kevin Garcia', 'Dr. Spencer Waller',\n",
       "       'Jesus Powell', 'Amy Molina', 'Taylor Ross', 'Christopher Dickson',\n",
       "       'Ashley Browning', 'Aimee Page', 'Caleb Allen', 'Nancy White',\n",
       "       'Jessica Estes', 'Gregory Mann', 'Robert Horton', 'Kathy Lewis',\n",
       "       'Danny Williams', 'Daniel Warner', 'David Hill', 'Scott Wade',\n",
       "       'Angela Martinez PhD', 'Jeffrey Nguyen', 'Carlos Haney',\n",
       "       'Michael Shelton', 'Roberto Moore', 'Jennifer Williams',\n",
       "       'Nicholas Cook', 'Lisa Arnold', 'David Hart', 'Kevin Moore',\n",
       "       'Brianna Brown', 'Stefanie Peterson', 'Mary Wilson',\n",
       "       'Jeffrey Stuart', 'Tyler Moore', 'John Wood', 'Peter Roberts',\n",
       "       'Jennifer Gonzalez', 'Sarah Johnson', 'Matthew Smith',\n",
       "       'Nathan Murphy', 'Corey Hayes', 'Kevin Carter', 'William Scott',\n",
       "       'Justin Guerra', 'Dylan Randall', 'Connor Osborne',\n",
       "       'Joshua Ballard', 'Lisa Clark', 'Erica Stephens', 'Margaret Byrd',\n",
       "       'Monica Marquez', 'James Blevins', 'Jessica Sullivan',\n",
       "       'Joshua Stewart MD', 'Ann Ferrell', 'Amy Brown', 'Jacqueline Fox',\n",
       "       'Angela Vasquez', 'Kenneth Myers', 'Linda Payne', 'William Moss',\n",
       "       'Tracy Young', 'Jill Norton', 'Perry Owens', 'Margaret Villarreal',\n",
       "       'John Middleton', 'Carrie Long', 'Cory Sullivan',\n",
       "       'Casey Contreras', 'Aaron Carter', 'Thomas Bryant', 'Donald King',\n",
       "       'Joseph Ayala', 'Jennifer Gonzales', 'James Osborne',\n",
       "       'Andrea Reynolds', 'Evelyn Fernandez', 'Elijah Graham',\n",
       "       'Wanda Smith', 'Michael Davis', 'Andrew Sullivan',\n",
       "       'Melissa Taylor', 'Kathy Valdez', 'Daniel Miller',\n",
       "       'Lori Underwood', 'Kendra Mosley', 'Ariel Brown',\n",
       "       'Jennifer Santos', 'Pamela Shaw', 'Jason West', 'James Farmer',\n",
       "       'Brittany Watkins', 'Logan Harper', 'Jeffrey Smith', 'Kent Stone',\n",
       "       'Jimmy Kemp', 'Michael Lee', 'Rebekah Clark', 'Julie Mcclain',\n",
       "       'Sharon Marshall', 'Linda Miller', 'Mrs. Makayla Adams',\n",
       "       'Rebecca Gibson', 'Joe Leonard', 'William Acosta',\n",
       "       'Jonathan Hughes', 'Madeline Mccullough', 'Angela Hayden',\n",
       "       'Belinda Novak', 'Hailey Larson', 'Casey Lester', 'Javier Hall',\n",
       "       'Ashley Mack', 'Brittany Brown', 'Tracy Lee', 'Eric Thomas',\n",
       "       'Robert Lynch', 'Kevin Bridges', 'Daniel Ochoa', 'James Mcdonald',\n",
       "       'Justin Powers', 'Sharon Clark', 'David Daniels',\n",
       "       'Kenneth Marshall', 'Mary Sanchez', 'Michelle Smith', 'Paul Jones',\n",
       "       'Michael Wolfe', 'John Madden', 'Jay Stone', 'Casey Cardenas',\n",
       "       'Seth Schwartz', 'Robert Gonzalez', 'Rachel Orr', 'Tamara Oneill',\n",
       "       'Jason Miller', 'Derrick Barajas', 'Brittany Nguyen',\n",
       "       'Cheryl Williams', 'Maria Ramos', 'Melanie Hill', 'Susan Adams',\n",
       "       'Chris Wilson', 'Jason Hart', 'Jill Vega', 'Sabrina Landry',\n",
       "       'Madeline Lee', 'Connie Hogan', 'Kimberly Tucker', 'Juan Caldwell',\n",
       "       'Nancy Finley', 'Danielle Myers', 'Tiffany Marshall',\n",
       "       'Adam Davidson', 'Connie Munoz', 'Edward Sanchez',\n",
       "       'Christine Fitzgerald', 'Jennifer Carson', 'Jonathan Graves',\n",
       "       'Charles Holt', 'Christy Carter', 'Cynthia Keith', 'Robert Jones',\n",
       "       'Karen Meyer', 'Melissa Kennedy', 'Julie Williams',\n",
       "       'Mary Thompson', 'Michael Gray', 'Kenneth Knox', 'Kathleen Howard',\n",
       "       'Amber Rivera', 'Angel Beck', 'Heather Jenkins', 'Sarah Li',\n",
       "       'Andrew Johnson', 'Mary Miller', 'Tasha Jones', 'Janet Kirk',\n",
       "       'Nicholas Rodriguez', 'Tracy Mitchell', 'Susan Ferguson',\n",
       "       'Kelly Frank', 'Daniel Chavez', 'Amanda Smith', 'Richard Sullivan',\n",
       "       'Edward Larson', 'Cindy Brown', 'Kelly Franklin', 'Nancy Porter',\n",
       "       'Stephanie Padilla', 'Alexandria Johnson', 'Lisa Brown',\n",
       "       'Antonio Murphy', 'Jonathan Mckinney', 'Angela Gill',\n",
       "       'Ashley Williams', 'Miranda Brandt', 'Joanna Jones MD',\n",
       "       'Stephen Garcia', 'Chad Clark', 'Jose Garcia', 'Donald Davis',\n",
       "       'Nicole Vargas', 'Gerald Freeman', 'John Holmes', 'Bradley Perez',\n",
       "       'Michael Smith', 'Eddie Foster', 'Daniel Peck', 'Dustin Vazquez',\n",
       "       'Cassie Cruz', 'Mary Lang', 'Kelsey Li', 'Tom Carter',\n",
       "       'Samantha Barton', 'Lisa Smith', 'Gregory Garcia', 'Judith Gray',\n",
       "       'Kristen Tyler', 'Richard Anderson', 'Joel Banks', 'Ricky Lutz',\n",
       "       'Tracy Murray', 'Victoria Burgess', 'Vanessa Hall',\n",
       "       'Alicia Romero', 'Scott Hernandez', 'Albert Ramirez',\n",
       "       'Tina Potter', 'Amanda Blair', 'Alexandra Kim', 'Christine Wright',\n",
       "       'Connie Smith', 'Dennis Lopez', 'Cindy Donaldson', 'David Sexton',\n",
       "       'Emma Allen', 'Donald Moore', 'Lisa Warren', 'Jessica Carter',\n",
       "       'Ronald Kent', 'Paul Watts', 'Nicholas Turner',\n",
       "       'Ronald Taylor DDS', 'Kristine Porter', 'Briana Clark',\n",
       "       'Elizabeth Potts', 'Kerry Scott', 'Doris Cohen', 'Lisa Castillo',\n",
       "       'Christopher Thornton', 'Steven Blair', 'Dominic Carter',\n",
       "       'David Castillo', 'James Sanchez', 'Brian Bell', 'Ashley Campos',\n",
       "       'Katherine Mcdowell', 'Tina Shaw', 'Paige Drake',\n",
       "       'Brittany Barber', 'Tina Mercer', 'Kyle Allen', 'Alexander Curry',\n",
       "       'Carol Oconnor', 'Brian Cook', 'Tracey Serrano',\n",
       "       'Rebecca Rodriguez', 'David Simpson', 'Abigail Shaw',\n",
       "       'Joseph Cooper', 'Dakota Davies', 'Madison Lee',\n",
       "       'Katrina Anderson', 'Amber Smith', 'Luis Tran', 'Paul Cooper',\n",
       "       'Garrett Walker', 'Randall Hall', 'Cheyenne Young',\n",
       "       'Charles Sampson', 'James Beasley', 'Travis Diaz', 'Eric Sullivan',\n",
       "       'Gary Colon', 'Andrew Davidson', 'Kevin Roberts', 'Lisa Kerr',\n",
       "       'Robert Miller', 'Mrs. Veronica Young MD', 'Barbara Hernandez',\n",
       "       'Rachael Cox', 'Sherry Townsend', 'Danielle Richardson',\n",
       "       'George Stein', 'Annette Bowen', 'Justin Galvan', 'Jacob Thomas',\n",
       "       'Fred Taylor', 'Crystal Vasquez', 'Bonnie Scott', 'Robert Eaton',\n",
       "       'Jeffrey Miller', 'Daniel Arnold', 'Dillon Evans', 'Nancy Smith',\n",
       "       'David Gonzalez', 'Brandon Pearson', 'Amy Spencer', 'Julie Hughes',\n",
       "       'Jamie Young', 'Eddie Castro', 'Keith Wu', 'Jennifer Miller',\n",
       "       'Scott Kim', 'Debra Garcia', 'Paul Lee', 'Karen Castro',\n",
       "       'Victor Tucker', 'Christina Brown', 'Jessica Hoffman',\n",
       "       'Elizabeth Mccarthy', 'Karen Greene', 'Mr. Roger Miller',\n",
       "       'Regina Weaver', 'Debra Lopez', 'Sarah Hill', 'John Yang',\n",
       "       'Maria Campbell', 'Kevin Williams', 'Christine Glover',\n",
       "       'Julian Medina', 'Jason Morris', 'David Hester', 'Dean Medina',\n",
       "       'Katherine Rodriguez', 'Michael Rodriguez', 'Alex Martin',\n",
       "       'Cody Hall', 'Anthony Collins', 'Tony Schwartz', 'David Moody',\n",
       "       'Dustin Williams', 'Melissa Merritt', 'Annette Harris',\n",
       "       'Dennis Williams', 'Brittany Collins', 'Heather Bowers',\n",
       "       'Alyssa Walker', 'Michael Salinas', 'Stephanie Figueroa',\n",
       "       'Allen Nguyen', 'Julia Pierce', 'Matthew Boyd', 'Ronald Kim',\n",
       "       'Linda Jackson', 'James Kelly', 'Greg Barnes', 'Chad Walker',\n",
       "       'Wayne Fox', 'Jose Taylor', 'Debra Collins', 'Robert Mendoza',\n",
       "       'Alexander Campbell', 'Patricia Garcia', 'Pamela Reed',\n",
       "       'Anne Smith', 'Jose Nelson', 'Donald Lopez', 'Dominique Werner',\n",
       "       'Kimberly Mcgee', 'Gregg Weaver', 'Robert Barber', 'Ryan Shelton',\n",
       "       'Miguel Acevedo', 'Robert Moreno', 'William Wells',\n",
       "       'Stacy Gonzalez', 'Cynthia Thomas', 'Connor Mccormick',\n",
       "       'Samantha Gilbert', 'Mikayla Jackson', 'Jacqueline Ewing',\n",
       "       'Daniel Johnson', 'James Stephenson', 'William Jacobs II',\n",
       "       'Adam Thompson', 'Nicholas Carter', 'Sarah Meyers', 'Taylor Koch',\n",
       "       'Jennifer Campbell', 'Collin Rios', 'Annette Jones', 'Denise Fox',\n",
       "       'Mark Davis', 'Michael Mcdonald', 'Mary Powell', 'Angela Long',\n",
       "       'Daniel Hernandez', 'Mark Wu', 'Joseph Baker', 'Seth Robinson',\n",
       "       'Jessica Montoya', 'Christina Andrade', 'Benjamin Foster',\n",
       "       'John Davis', 'Megan Aguirre', 'Katherine Briggs', 'Daniel Lane',\n",
       "       'Vickie Hernandez', 'Jody Fleming', 'Angela Paul',\n",
       "       'Michael Williams', 'Chad Johnson', 'Francisco Olson',\n",
       "       'Christine Lucas', 'Alan Mccoy', 'Dustin Cardenas',\n",
       "       'Jessica Woods', 'Zachary Diaz', 'Jason Craig', 'William Gonzalez',\n",
       "       'Phillip Rodriguez', 'Monique Robinson', 'Kelly Fuller',\n",
       "       'Allen Davis', 'Elizabeth Glenn', 'Jessica Baker', 'Lisa Moore',\n",
       "       'Eric Long', 'Carol Mahoney', 'Michael Frost', 'Kevin Ayala',\n",
       "       'Martin Obrien', 'Amanda Holt', 'Pamela Oconnor', 'Brett Thompson',\n",
       "       'Holly Roth', 'John Allen', 'Dennis Baker', 'Rebecca Hall',\n",
       "       'Kimberly Patterson'], dtype=object)"
      ]
     },
     "execution_count": 21,
     "metadata": {},
     "output_type": "execute_result"
    }
   ],
   "source": [
    "health_data['Doctor_Name'].unique()"
   ]
  },
  {
   "cell_type": "code",
   "execution_count": 33,
   "id": "520a8cfb-445b-47e5-8a91-322f61fd42f7",
   "metadata": {},
   "outputs": [
    {
     "name": "stdout",
     "output_type": "stream",
     "text": [
      "544\n"
     ]
    }
   ],
   "source": [
    "# Print the unique doctor\n",
    "print(len(health_data['Doctor_Name'].unique()))"
   ]
  },
  {
   "cell_type": "markdown",
   "id": "52739a17-2b49-4fd2-8386-4b845cf3f821",
   "metadata": {},
   "source": [
    "# ❓ Business Questions & Insights"
   ]
  },
  {
   "cell_type": "markdown",
   "id": "72c0029d-78a4-4098-b10a-2eb5664a2b3c",
   "metadata": {},
   "source": [
    "####  What is the Average Age of Patients ? "
   ]
  },
  {
   "cell_type": "code",
   "execution_count": 99,
   "id": "c9511efd-b2ca-4ffe-86a0-8d70aba765d3",
   "metadata": {},
   "outputs": [
    {
     "name": "stdout",
     "output_type": "stream",
     "text": [
      "Average Age Of Patient : 51.65625 Years\n"
     ]
    }
   ],
   "source": [
    "print('Average Age Of Patient :',health_data['Age'].mean(),'Years')"
   ]
  },
  {
   "cell_type": "markdown",
   "id": "49adfbbe-9eca-4c2d-b98e-c1ac0c97d9d1",
   "metadata": {},
   "source": [
    "#### What is the gender distribution of patients?"
   ]
  },
  {
   "cell_type": "code",
   "execution_count": 43,
   "id": "dec8009f-1988-4fb5-b3e9-f278d1387926",
   "metadata": {},
   "outputs": [
    {
     "name": "stdout",
     "output_type": "stream",
     "text": [
      "Gender\n",
      "Female    41.636364\n",
      "Male      39.636364\n",
      "Other     18.727273\n",
      "Name: proportion, dtype: float64\n"
     ]
    }
   ],
   "source": [
    "# Percentage Wise Distribution \n",
    "print(health_data['Gender'].value_counts(normalize=True)*100)\n",
    "# We can see from this data percentage of female is higher than male"
   ]
  },
  {
   "cell_type": "code",
   "execution_count": 48,
   "id": "f3ea49d8-27ab-46a9-b098-30998f1ee42e",
   "metadata": {},
   "outputs": [],
   "source": [
    "gender_count=health_data['Gender'].value_counts()"
   ]
  },
  {
   "cell_type": "code",
   "execution_count": 73,
   "id": "cfff11a0-f3af-4109-a681-29cac4b10ae4",
   "metadata": {},
   "outputs": [
    {
     "data": {
      "image/png": "[encoded data removed]",
      "text/plain": [
       "<Figure size 600x400 with 1 Axes>"
      ]
     },
     "metadata": {},
     "output_type": "display_data"
    }
   ],
   "source": [
    "# Building a bar plot \n",
    "plt.figure(figsize=(6,4))\n",
    "gender_count.plot(kind='bar',color=['Pink','skyblue','Green'])\n",
    "plt.title('Gender Distribution Of Patients')\n",
    "plt.xlabel('Gender')\n",
    "plt.ylabel('Number Of Patients')\n",
    "plt.grid(linestyle='--')\n",
    "plt.show()"
   ]
  },
  {
   "cell_type": "code",
   "execution_count": 104,
   "id": "c49b9d29-b661-429a-af40-4251ea1d60c0",
   "metadata": {},
   "outputs": [
    {
     "data": {
      "image/png": "[encoded data removed]",
      "text/plain": [
       "<Figure size 600x400 with 1 Axes>"
      ]
     },
     "metadata": {},
     "output_type": "display_data"
    }
   ],
   "source": [
    "gender_percentage=health_data['Gender'].value_counts(normalize=True)*100\n",
    "# Building a bar plot \n",
    "plt.figure(figsize=(6,4))\n",
    "gender_percentage.plot(kind='bar',color=['Pink','skyblue','Green'])\n",
    "plt.title('Gender Distribution Of Patients')\n",
    "plt.xlabel('Gender')\n",
    "plt.ylabel('Percentage of Patients %')\n",
    "plt.grid(linestyle='--')\n",
    "plt.savefig('Gender_Distribution.png')\n",
    "plt.show()"
   ]
  },
  {
   "cell_type": "code",
   "execution_count": 105,
   "id": "7e7dbc16-abad-4daf-bc48-9f0f35bbc63b",
   "metadata": {},
   "outputs": [
    {
     "data": {
      "image/png": "[encoded data removed]",
      "text/plain": [
       "<Figure size 800x600 with 1 Axes>"
      ]
     },
     "metadata": {},
     "output_type": "display_data"
    }
   ],
   "source": [
    "# Creating a pie chart ! \n",
    "gender_count=health_data['Gender'].value_counts() \n",
    "plt.figure(figsize=(8,6))\n",
    "plt.pie(\n",
    "    gender_count,\n",
    "    autopct='%1.1f%%',\n",
    "    labels=gender_count.index,\n",
    "    colors=['Pink','Skyblue','LightGreen'],\n",
    "    wedgeprops={'edgecolor':'black'}\n",
    ")\n",
    "plt.title('Gender Distribution of Patients')\n",
    "plt.savefig('Gender Distribution_Piechart.png')\n",
    "plt.show()"
   ]
  },
  {
   "cell_type": "markdown",
   "id": "fd747b98-e85a-4596-960d-5a96a5872cef",
   "metadata": {},
   "source": [
    "#### What are the top 5 cities with the highest number of patients?"
   ]
  },
  {
   "cell_type": "code",
   "execution_count": 100,
   "id": "08d10f24-bc14-468f-8f58-b827c0615492",
   "metadata": {},
   "outputs": [
    {
     "data": {
      "text/plain": [
       "City\n",
       "Lake David          3\n",
       "Smithshire          2\n",
       "East Christopher    2\n",
       "Christopherville    2\n",
       "Brownburgh          2\n",
       "Name: count, dtype: int64"
      ]
     },
     "execution_count": 100,
     "metadata": {},
     "output_type": "execute_result"
    }
   ],
   "source": [
    "# What are the top 5 cities with the highest number of patients?\n",
    "top_five_cities=health_data['City'].value_counts().sort_values(ascending=False).head(5)\n",
    "top_five_cities"
   ]
  },
  {
   "cell_type": "code",
   "execution_count": 106,
   "id": "d48d8aad-e2fa-4e2c-8974-f3ff0c260754",
   "metadata": {},
   "outputs": [
    {
     "data": {
      "image/png": "[encoded data removed]",
      "text/plain": [
       "<Figure size 600x400 with 1 Axes>"
      ]
     },
     "metadata": {},
     "output_type": "display_data"
    }
   ],
   "source": [
    "# Now plotting this data with a histogram\n",
    "plt.figure(figsize=(6,4))\n",
    "top_five_cities.plot(kind='bar',color='skyblue')\n",
    "plt.title('Top 5 Cities With Highest Number Of Patients!')\n",
    "plt.xlabel('Cities')\n",
    "plt.ylabel('No. Of Patients')\n",
    "plt.xticks(rotation=45)\n",
    "plt.savefig('Top 5 Cities With Highest Number of Patients.png')\n",
    "plt.show()"
   ]
  },
  {
   "cell_type": "markdown",
   "id": "5d6603db-4251-46a5-8dba-6450a86dc6c9",
   "metadata": {},
   "source": [
    "#### How many patients were admitted to each department?"
   ]
  },
  {
   "cell_type": "code",
   "execution_count": 108,
   "id": "55b4abd7-aa8b-4a97-a7ed-05542a038361",
   "metadata": {},
   "outputs": [
    {
     "data": {
      "image/png": "[encoded data removed]",
      "text/plain": [
       "<Figure size 800x600 with 1 Axes>"
      ]
     },
     "metadata": {},
     "output_type": "display_data"
    }
   ],
   "source": [
    "count_patients_department_wise=health_data['Department'].value_counts()\n",
    "plt.figure(figsize=(8,6))\n",
    "count_patients_department_wise.plot(kind='bar',color='teal')\n",
    "plt.title('No. Of Patients Department Wise')\n",
    "plt.xlabel('Cities')\n",
    "plt.ylabel('No. Of Patients')\n",
    "# Add value labels\n",
    "for i, value in enumerate(count_patients_department_wise.values):\n",
    "    plt.text(i, value + 1, str(value), ha='center', va='bottom', fontsize=10)\n",
    "plt.savefig('No. Of Patients Department Wise.png')\n",
    "plt.tight_layout()\n",
    "plt.show()"
   ]
  },
  {
   "cell_type": "code",
   "execution_count": 101,
   "id": "ac259ea1-7caf-44cf-892d-1fcef1a53b70",
   "metadata": {},
   "outputs": [
    {
     "data": {
      "text/plain": [
       "Department\n",
       "Pediatrics          88\n",
       "Gastroenterology    85\n",
       "Neurology           84\n",
       "General Medicine    81\n",
       "Oncology            72\n",
       "Orthopedics         67\n",
       "Cardiology          67\n",
       "Name: count, dtype: int64"
      ]
     },
     "execution_count": 101,
     "metadata": {},
     "output_type": "execute_result"
    }
   ],
   "source": [
    "count_patients_department_wise"
   ]
  },
  {
   "cell_type": "markdown",
   "id": "928f2140-9e2c-441d-981a-b78ed2b1c3e8",
   "metadata": {},
   "source": [
    "#### What is the average length of stay per department?"
   ]
  },
  {
   "cell_type": "code",
   "execution_count": 56,
   "id": "c5029041-800d-4bb0-b3a8-7040c71953fe",
   "metadata": {},
   "outputs": [
    {
     "data": {
      "text/plain": [
       "Department\n",
       "Cardiology          15\n",
       "Gastroenterology    17\n",
       "General Medicine    16\n",
       "Neurology           15\n",
       "Oncology            15\n",
       "Orthopedics         16\n",
       "Pediatrics          14\n",
       "Name: Length_of_Stay, dtype: int64"
      ]
     },
     "execution_count": 56,
     "metadata": {},
     "output_type": "execute_result"
    }
   ],
   "source": [
    "health_data.groupby('Department')['Length_of_Stay'].mean().round().astype(int)"
   ]
  },
  {
   "cell_type": "markdown",
   "id": "3ec7f48a-ec75-45a5-a2ed-9e659801e947",
   "metadata": {},
   "source": [
    "#### What is the overall average treatment cost?"
   ]
  },
  {
   "cell_type": "code",
   "execution_count": 60,
   "id": "e672a5cd-d69f-465e-900b-f26505e35d94",
   "metadata": {},
   "outputs": [
    {
     "name": "stdout",
     "output_type": "stream",
     "text": [
      "10358.991513342697\n"
     ]
    }
   ],
   "source": [
    "print(health_data['Treatment_Cost'].mean())"
   ]
  },
  {
   "cell_type": "markdown",
   "id": "3b37d743-300d-4a03-8802-a64800992eb8",
   "metadata": {},
   "source": [
    "#### What is the overall average treatment cost across Department?"
   ]
  },
  {
   "cell_type": "code",
   "execution_count": 62,
   "id": "4d2ebc1d-0d21-4896-ac85-8fe9e1a39f51",
   "metadata": {},
   "outputs": [
    {
     "data": {
      "text/plain": [
       "Department\n",
       "Oncology            11041.993281\n",
       "Gastroenterology    10877.192941\n",
       "Neurology           10465.361146\n",
       "Pediatrics          10194.060819\n",
       "Orthopedics         10067.503346\n",
       "General Medicine     9996.070622\n",
       "Cardiology           9781.109465\n",
       "Name: Treatment_Cost, dtype: float64"
      ]
     },
     "execution_count": 62,
     "metadata": {},
     "output_type": "execute_result"
    }
   ],
   "source": [
    "# Across department\n",
    "health_data.groupby('Department')['Treatment_Cost'].mean().sort_values(ascending=False)"
   ]
  },
  {
   "cell_type": "markdown",
   "id": "d635a6ea-665f-48bc-b127-618e32016c13",
   "metadata": {},
   "source": [
    "#### What are the top 3 most common diagnosis?\n"
   ]
  },
  {
   "cell_type": "code",
   "execution_count": 65,
   "id": "7a2cad6a-0a65-48c3-a92e-36c59602fbbf",
   "metadata": {},
   "outputs": [
    {
     "data": {
      "text/plain": [
       "Diagnosis\n",
       "Fracture        77\n",
       "Tuberculosis    69\n",
       "Migraine        65\n",
       "Name: count, dtype: int64"
      ]
     },
     "execution_count": 65,
     "metadata": {},
     "output_type": "execute_result"
    }
   ],
   "source": [
    "top_three_diagnosis=health_data['Diagnosis'].value_counts().sort_values(ascending=False).head(3)\n",
    "top_three_diagnosis"
   ]
  },
  {
   "cell_type": "code",
   "execution_count": 110,
   "id": "2d19d19b-7720-4755-a7d3-8cf2dbf1b508",
   "metadata": {},
   "outputs": [
    {
     "data": {
      "image/png": "[encoded data removed]",
      "text/plain": [
       "<Figure size 600x400 with 1 Axes>"
      ]
     },
     "metadata": {},
     "output_type": "display_data"
    }
   ],
   "source": [
    "plt.figure(figsize=(6,4))\n",
    "top_three_diagnosis.plot(kind='bar',color='darkslateblue')\n",
    "plt.title('Top_Three_Diagnosis')\n",
    "plt.xlabel('Diagnosis')\n",
    "plt.ylabel('Number of Patients')\n",
    "plt.savefig('Top_Three_Diagnosis.png')\n",
    "plt.show()"
   ]
  },
  {
   "cell_type": "markdown",
   "id": "848593dc-f0fe-41be-9117-0debe7ecd3a7",
   "metadata": {},
   "source": [
    "#### What is the readmission rate within 30 days?"
   ]
  },
  {
   "cell_type": "code",
   "execution_count": 69,
   "id": "582c5870-a5b2-488d-bc88-28013d7ef10a",
   "metadata": {},
   "outputs": [
    {
     "data": {
      "text/plain": [
       "Readmission_Within_30_Days\n",
       "No     82.536765\n",
       "Yes    17.463235\n",
       "Name: proportion, dtype: float64"
      ]
     },
     "execution_count": 69,
     "metadata": {},
     "output_type": "execute_result"
    }
   ],
   "source": [
    "readmission_rate=health_data['Readmission_Within_30_Days'].value_counts('normalize')*100\n",
    "readmission_rate"
   ]
  },
  {
   "cell_type": "code",
   "execution_count": 114,
   "id": "93fd3757-c5ae-40c3-9d4b-c38e5be6ae2f",
   "metadata": {},
   "outputs": [
    {
     "data": {
      "text/plain": [
       "Text(41.972222222222214, 0.5, 'Percent(%) of Total Patients')"
      ]
     },
     "execution_count": 114,
     "metadata": {},
     "output_type": "execute_result"
    },
    {
     "data": {
      "image/png": "[encoded data removed]",
      "text/plain": [
       "<Figure size 600x400 with 1 Axes>"
      ]
     },
     "metadata": {},
     "output_type": "display_data"
    }
   ],
   "source": [
    "plt.figure(figsize=(6,4))\n",
    "readmission_rate.plot(kind='bar',color=['grey','orange'])\n",
    "plt.title('Percentage of Readmission')\n",
    "plt.savefig('Percentage of Readmission.png')\n",
    "plt.ylabel('Percent(%) of Total Patients')"
   ]
  },
  {
   "cell_type": "code",
   "execution_count": null,
   "id": "27b024ee-11ac-4a38-9e79-e97982426f9e",
   "metadata": {},
   "outputs": [],
   "source": [
    "# Final Interpretation\n",
    "# Around 17.45% readmitted within 30 days\n",
    "# Around 82% were not readmitted !"
   ]
  },
  {
   "cell_type": "markdown",
   "id": "8a6f992b-a0df-4e04-8a75-0e3a76482870",
   "metadata": {},
   "source": [
    "#### Which department has the highest average treatment cost?\n"
   ]
  },
  {
   "cell_type": "code",
   "execution_count": 76,
   "id": "2eeee52a-a3f5-4e46-be20-d52abe0f7a1f",
   "metadata": {},
   "outputs": [
    {
     "name": "stdout",
     "output_type": "stream",
     "text": [
      "Highest Average Treatment Cost : Oncology\n"
     ]
    }
   ],
   "source": [
    "print('Highest Average Treatment Cost :',health_data.groupby('Department')['Treatment_Cost'].mean().sort_values(ascending=False).head(1).index[0])"
   ]
  },
  {
   "cell_type": "markdown",
   "id": "f14efcca-34a0-4a55-982e-fb0c6cc82c3d",
   "metadata": {},
   "source": [
    "#### Is there any correlation between patient's age and treatment cost?\n"
   ]
  },
  {
   "cell_type": "code",
   "execution_count": 77,
   "id": "d2ce9e62-aaf9-4c31-b4c4-c0452786c20b",
   "metadata": {},
   "outputs": [
    {
     "data": {
      "text/plain": [
       "np.float64(-0.04149068369516543)"
      ]
     },
     "execution_count": 77,
     "metadata": {},
     "output_type": "execute_result"
    }
   ],
   "source": [
    "# Is there any correlation between patient's age and treatment cost?\n",
    "health_data['Age'].corr(health_data['Treatment_Cost'])\n",
    "# Correlation is negative"
   ]
  },
  {
   "cell_type": "markdown",
   "id": "eaabd667-3572-46b5-b394-99d930c314b8",
   "metadata": {},
   "source": [
    "####  What is the distribution of payment methods among patients?\n"
   ]
  },
  {
   "cell_type": "code",
   "execution_count": 78,
   "id": "ee214e80-2003-40fc-a956-e34972fd7624",
   "metadata": {},
   "outputs": [
    {
     "data": {
      "text/plain": [
       "Payment_Method\n",
       "Insurance      161\n",
       "Medicare       141\n",
       "Credit Card    124\n",
       "Cash           118\n",
       "Name: count, dtype: int64"
      ]
     },
     "execution_count": 78,
     "metadata": {},
     "output_type": "execute_result"
    }
   ],
   "source": [
    "distribution_payment=health_data['Payment_Method'].value_counts()\n",
    "distribution_payment"
   ]
  },
  {
   "cell_type": "code",
   "execution_count": 116,
   "id": "f4f57b96-de4f-4802-94d6-64d1ba588697",
   "metadata": {},
   "outputs": [
    {
     "data": {
      "image/png": "[encoded data removed]",
      "text/plain": [
       "<Figure size 600x400 with 1 Axes>"
      ]
     },
     "metadata": {},
     "output_type": "display_data"
    }
   ],
   "source": [
    "plt.figure(figsize=(6,4))\n",
    "distribution_payment.plot(kind='bar',color='steelblue')\n",
    "plt.title('Payment Distribution Methods')\n",
    "plt.xlabel('Payment Methods')\n",
    "plt.ylabel('No. Of Payments Done')\n",
    "plt.xticks(rotation=50)\n",
    "plt.savefig('Payment Distribution Methods.png')\n",
    "\n",
    "plt.show()\n",
    "# We can see most of the payents has been done through Insurance "
   ]
  },
  {
   "cell_type": "markdown",
   "id": "f10c72d4-6f54-4ed8-9f05-686f99d58c13",
   "metadata": {},
   "source": [
    "####  Which city has the highest average treatment cost?"
   ]
  },
  {
   "cell_type": "code",
   "execution_count": 81,
   "id": "9cc9516d-7cf9-4401-8878-aad9a8223d35",
   "metadata": {},
   "outputs": [
    {
     "data": {
      "text/plain": [
       "'Kevinberg'"
      ]
     },
     "execution_count": 81,
     "metadata": {},
     "output_type": "execute_result"
    }
   ],
   "source": [
    "health_data.groupby('City')['Treatment_Cost'].mean().sort_values(ascending=False).head(1).index[0]"
   ]
  },
  {
   "cell_type": "markdown",
   "id": "837a3819-8fc9-461f-b0cb-4cb2876d3f54",
   "metadata": {},
   "source": [
    "####  How does average length of stay differ by diagnosis?"
   ]
  },
  {
   "cell_type": "code",
   "execution_count": 193,
   "id": "44424844-4357-4e2e-a018-079fdf191ff1",
   "metadata": {},
   "outputs": [
    {
     "data": {
      "text/plain": [
       "Diagnosis\n",
       "Arthritis       18\n",
       "Asthma          15\n",
       "COVID-19        13\n",
       "Cancer          15\n",
       "Diabetes        16\n",
       "Fracture        18\n",
       "Hypertension    15\n",
       "Migraine        12\n",
       "Tuberculosis    15\n",
       "Name: Length_of_Stay, dtype: int64"
      ]
     },
     "execution_count": 193,
     "metadata": {},
     "output_type": "execute_result"
    }
   ],
   "source": [
    "health_data.groupby('Diagnosis')['Length_of_Stay'].mean().round().astype(int)"
   ]
  },
  {
   "cell_type": "markdown",
   "id": "650a3828-b5a5-4199-8eb3-a4d396b4f13e",
   "metadata": {},
   "source": [
    "#### Identify if older patients (say 60+) have higher readmission rates compared to younger ones.\n"
   ]
  },
  {
   "cell_type": "code",
   "execution_count": 208,
   "id": "341f8556-6787-470d-9e9a-af0d141108b9",
   "metadata": {},
   "outputs": [
    {
     "name": "stdout",
     "output_type": "stream",
     "text": [
      "Readmission Rate : 13.901345291479823\n"
     ]
    }
   ],
   "source": [
    "readmission_rate_above_60=health_data[health_data['Age']>60]['Readmission_Within_30_Days'].value_counts(normalize=True)*100\n",
    "print(f'Readmission Rate of patients >60 years Old : {readmission_rate_above_60.iloc[1]}')"
   ]
  },
  {
   "cell_type": "code",
   "execution_count": 213,
   "id": "8a9fd979-776c-4d60-8093-2e2e722ac91a",
   "metadata": {},
   "outputs": [
    {
     "name": "stdout",
     "output_type": "stream",
     "text": [
      "Readmission Rate of patients <60 years old : 20.24922118380062\n"
     ]
    }
   ],
   "source": [
    "readmission_rate_below_60=health_data[health_data['Age']<60]['Readmission_Within_30_Days'].value_counts(normalize=True)*100\n",
    "print(f'Readmission Rate of patients <60 years old : {readmission_rate_below_60.iloc[1]}')"
   ]
  },
  {
   "cell_type": "code",
   "execution_count": null,
   "id": "c34ebb97-a571-49d9-a69b-d06395bb3102",
   "metadata": {},
   "outputs": [],
   "source": [
    "# Hence, readmission rate of patients >60 is less than the readmission rate of younger patients !"
   ]
  },
  {
   "cell_type": "markdown",
   "id": "8b012ddb-76a0-4888-b681-8f75832c73a2",
   "metadata": {},
   "source": [
    "#### Calculate the % of deceased patients for each department (mortality rate analysis).\n"
   ]
  },
  {
   "cell_type": "code",
   "execution_count": 82,
   "id": "ac309655-8892-41b7-a4eb-40e2345b4d82",
   "metadata": {},
   "outputs": [
    {
     "data": {
      "text/plain": [
       "Department\n",
       "Cardiology          34.328358\n",
       "Gastroenterology    25.882353\n",
       "General Medicine    33.333333\n",
       "Neurology           32.142857\n",
       "Oncology            41.666667\n",
       "Orthopedics         44.776119\n",
       "Pediatrics          29.545455\n",
       "dtype: float64"
      ]
     },
     "execution_count": 82,
     "metadata": {},
     "output_type": "execute_result"
    }
   ],
   "source": [
    "# Calculating mortality rate analysis \n",
    "mortality_rate=health_data[health_data['Outcome']=='Deceased'].groupby('Department').size()/health_data.groupby('Department').size()*100\n",
    "mortality_rate"
   ]
  },
  {
   "cell_type": "code",
   "execution_count": 117,
   "id": "2ae1af91-7e58-4c61-9243-569322472b36",
   "metadata": {},
   "outputs": [
    {
     "data": {
      "image/png": "[encoded data removed]",
      "text/plain": [
       "<Figure size 640x480 with 1 Axes>"
      ]
     },
     "metadata": {},
     "output_type": "display_data"
    }
   ],
   "source": [
    "mortality_rate.plot(kind='bar', color='crimson')\n",
    "plt.title('Mortality Rate (%) by Department')\n",
    "plt.ylabel('Mortality Rate (%)')\n",
    "plt.xlabel('Department')\n",
    "plt.grid(axis='y', linestyle='--', alpha=0.7)\n",
    "plt.tight_layout()\n",
    "plt.savefig('Mortality Rate(%) by Department.png')\n",
    "plt.show()"
   ]
  },
  {
   "cell_type": "markdown",
   "id": "8c720ad2-1029-44d1-8ec2-1aa489213089",
   "metadata": {},
   "source": [
    "#### Find the top 10 patients with the highest treatment costs — What patterns do they share (age, department, diagnosis)?"
   ]
  },
  {
   "cell_type": "code",
   "execution_count": 84,
   "id": "209bc97d-ea0f-407b-a0f5-482b665d6a13",
   "metadata": {},
   "outputs": [
    {
     "data": {
      "text/plain": [
       "484    19960.29\n",
       "357    19950.65\n",
       "24     19910.74\n",
       "505    19871.53\n",
       "436    19859.13\n",
       "241    19855.42\n",
       "85     19849.01\n",
       "516    19808.10\n",
       "7      19795.71\n",
       "375    19778.99\n",
       "Name: Treatment_Cost, dtype: float64"
      ]
     },
     "execution_count": 84,
     "metadata": {},
     "output_type": "execute_result"
    }
   ],
   "source": [
    "top_10_patients=health_data['Treatment_Cost'].sort_values(ascending=False).head(10)\n",
    "top_10_patients"
   ]
  },
  {
   "cell_type": "code",
   "execution_count": 85,
   "id": "1ebc2abf-c01c-4343-b9bb-ca4d65e5f369",
   "metadata": {},
   "outputs": [
    {
     "data": {
      "text/plain": [
       "Index([484, 357, 24, 505, 436, 241, 85, 516, 7, 375], dtype='int64')"
      ]
     },
     "execution_count": 85,
     "metadata": {},
     "output_type": "execute_result"
    }
   ],
   "source": [
    "top_10_patients.index"
   ]
  },
  {
   "cell_type": "code",
   "execution_count": 86,
   "id": "b090f142-4c66-482c-959b-e4879d700b77",
   "metadata": {},
   "outputs": [
    {
     "data": {
      "text/plain": [
       "Patient_ID                                    491\n",
       "Name                                Patricia Wolf\n",
       "Gender                                       Male\n",
       "Age                                             7\n",
       "City                                 Lake Heather\n",
       "Admission_Date                2024-07-31 00:00:00\n",
       "Discharge_Date                2024-08-25 00:00:00\n",
       "Department                            Orthopedics\n",
       "Doctor_Name                      Jacqueline Ewing\n",
       "Diagnosis                                Fracture\n",
       "Treatment_Cost                            3575.12\n",
       "Payment_Method                          Insurance\n",
       "Readmission_Within_30_Days                    Yes\n",
       "Length_of_Stay                               25.0\n",
       "Outcome                                 Recovered\n",
       "Name: 490, dtype: object"
      ]
     },
     "execution_count": 86,
     "metadata": {},
     "output_type": "execute_result"
    }
   ],
   "source": [
    "health_data.iloc[484]"
   ]
  },
  {
   "cell_type": "code",
   "execution_count": 89,
   "id": "14a4c2a0-07f0-48de-8670-f0de5a31a101",
   "metadata": {},
   "outputs": [
    {
     "data": {
      "text/plain": [
       "490     7\n",
       "360    74\n",
       "24     24\n",
       "511    57\n",
       "440    75\n",
       "243    11\n",
       "85     82\n",
       "522     5\n",
       "7      98\n",
       "378    14\n",
       "Name: Age, dtype: int64"
      ]
     },
     "execution_count": 89,
     "metadata": {},
     "output_type": "execute_result"
    }
   ],
   "source": [
    "\n",
    "health_data['Age'].iloc[top_10_patients.index]"
   ]
  },
  {
   "cell_type": "code",
   "execution_count": 90,
   "id": "1887a200-d5a8-406d-a8af-7c528f0e0ae2",
   "metadata": {},
   "outputs": [
    {
     "data": {
      "text/html": [
       "<div>\n",
       "<style scoped>\n",
       "    .dataframe tbody tr th:only-of-type {\n",
       "        vertical-align: middle;\n",
       "    }\n",
       "\n",
       "    .dataframe tbody tr th {\n",
       "        vertical-align: top;\n",
       "    }\n",
       "\n",
       "    .dataframe thead th {\n",
       "        text-align: right;\n",
       "    }\n",
       "</style>\n",
       "<table border=\"1\" class=\"dataframe\">\n",
       "  <thead>\n",
       "    <tr style=\"text-align: right;\">\n",
       "      <th></th>\n",
       "      <th>Ages</th>\n",
       "      <th>Age_Category</th>\n",
       "    </tr>\n",
       "  </thead>\n",
       "  <tbody>\n",
       "    <tr>\n",
       "      <th>0</th>\n",
       "      <td>7</td>\n",
       "      <td>Child</td>\n",
       "    </tr>\n",
       "    <tr>\n",
       "      <th>1</th>\n",
       "      <td>74</td>\n",
       "      <td>Senior Citizens</td>\n",
       "    </tr>\n",
       "    <tr>\n",
       "      <th>2</th>\n",
       "      <td>24</td>\n",
       "      <td>Adult</td>\n",
       "    </tr>\n",
       "    <tr>\n",
       "      <th>3</th>\n",
       "      <td>57</td>\n",
       "      <td>Adult</td>\n",
       "    </tr>\n",
       "    <tr>\n",
       "      <th>4</th>\n",
       "      <td>75</td>\n",
       "      <td>Senior Citizens</td>\n",
       "    </tr>\n",
       "    <tr>\n",
       "      <th>5</th>\n",
       "      <td>11</td>\n",
       "      <td>Child</td>\n",
       "    </tr>\n",
       "    <tr>\n",
       "      <th>6</th>\n",
       "      <td>82</td>\n",
       "      <td>Senior Citizens</td>\n",
       "    </tr>\n",
       "    <tr>\n",
       "      <th>7</th>\n",
       "      <td>5</td>\n",
       "      <td>Child</td>\n",
       "    </tr>\n",
       "    <tr>\n",
       "      <th>8</th>\n",
       "      <td>98</td>\n",
       "      <td>Senior Citizens</td>\n",
       "    </tr>\n",
       "    <tr>\n",
       "      <th>9</th>\n",
       "      <td>14</td>\n",
       "      <td>Teen</td>\n",
       "    </tr>\n",
       "  </tbody>\n",
       "</table>\n",
       "</div>"
      ],
      "text/plain": [
       "   Ages     Age_Category\n",
       "0     7            Child\n",
       "1    74  Senior Citizens\n",
       "2    24            Adult\n",
       "3    57            Adult\n",
       "4    75  Senior Citizens\n",
       "5    11            Child\n",
       "6    82  Senior Citizens\n",
       "7     5            Child\n",
       "8    98  Senior Citizens\n",
       "9    14             Teen"
      ]
     },
     "execution_count": 90,
     "metadata": {},
     "output_type": "execute_result"
    }
   ],
   "source": [
    "ages=health_data['Age'].iloc[top_10_patients.index].values\n",
    "bins=[0,12,18,60,100]\n",
    "labels=['Child','Teen','Adult','Senior Citizens']\n",
    "age_category=pd.cut(ages,bins=bins,labels=labels,right=True)\n",
    "# Creating a new df \n",
    "df=pd.DataFrame({'Ages':ages,'Age_Category':age_category})\n",
    "df"
   ]
  },
  {
   "cell_type": "code",
   "execution_count": 91,
   "id": "12f662d0-76d7-4240-9e00-631773a64545",
   "metadata": {},
   "outputs": [
    {
     "data": {
      "text/plain": [
       "array(['Orthopedics', 'Orthopedics', 'Orthopedics', 'Gastroenterology',\n",
       "       'Gastroenterology', 'Neurology', 'Gastroenterology', 'Neurology',\n",
       "       'Gastroenterology', 'Neurology'], dtype=object)"
      ]
     },
     "execution_count": 91,
     "metadata": {},
     "output_type": "execute_result"
    }
   ],
   "source": [
    "departments=health_data['Department'].iloc[top_10_patients.index].values\n",
    "departments"
   ]
  },
  {
   "cell_type": "code",
   "execution_count": 92,
   "id": "e42b59af-c547-4635-b8f4-de7c55ce4576",
   "metadata": {},
   "outputs": [
    {
     "data": {
      "text/plain": [
       "array(['Fracture', 'COVID-19', 'Asthma', 'Tuberculosis', 'Hypertension',\n",
       "       'Arthritis', 'Fracture', 'Tuberculosis', 'Diabetes', 'Diabetes'],\n",
       "      dtype=object)"
      ]
     },
     "execution_count": 92,
     "metadata": {},
     "output_type": "execute_result"
    }
   ],
   "source": [
    "diagnosis=health_data['Diagnosis'].iloc[top_10_patients.index].values\n",
    "diagnosis"
   ]
  },
  {
   "cell_type": "code",
   "execution_count": 93,
   "id": "61028ea2-999e-4ff7-82e5-e54353b9d5d8",
   "metadata": {},
   "outputs": [
    {
     "data": {
      "text/html": [
       "<div>\n",
       "<style scoped>\n",
       "    .dataframe tbody tr th:only-of-type {\n",
       "        vertical-align: middle;\n",
       "    }\n",
       "\n",
       "    .dataframe tbody tr th {\n",
       "        vertical-align: top;\n",
       "    }\n",
       "\n",
       "    .dataframe thead th {\n",
       "        text-align: right;\n",
       "    }\n",
       "</style>\n",
       "<table border=\"1\" class=\"dataframe\">\n",
       "  <thead>\n",
       "    <tr style=\"text-align: right;\">\n",
       "      <th></th>\n",
       "      <th>Ages</th>\n",
       "      <th>Age_Category</th>\n",
       "      <th>Department</th>\n",
       "      <th>Diagnosis</th>\n",
       "    </tr>\n",
       "  </thead>\n",
       "  <tbody>\n",
       "    <tr>\n",
       "      <th>0</th>\n",
       "      <td>7</td>\n",
       "      <td>Child</td>\n",
       "      <td>Orthopedics</td>\n",
       "      <td>Fracture</td>\n",
       "    </tr>\n",
       "    <tr>\n",
       "      <th>1</th>\n",
       "      <td>74</td>\n",
       "      <td>Senior Citizens</td>\n",
       "      <td>Orthopedics</td>\n",
       "      <td>COVID-19</td>\n",
       "    </tr>\n",
       "    <tr>\n",
       "      <th>2</th>\n",
       "      <td>24</td>\n",
       "      <td>Adult</td>\n",
       "      <td>Orthopedics</td>\n",
       "      <td>Asthma</td>\n",
       "    </tr>\n",
       "    <tr>\n",
       "      <th>3</th>\n",
       "      <td>57</td>\n",
       "      <td>Adult</td>\n",
       "      <td>Gastroenterology</td>\n",
       "      <td>Tuberculosis</td>\n",
       "    </tr>\n",
       "    <tr>\n",
       "      <th>4</th>\n",
       "      <td>75</td>\n",
       "      <td>Senior Citizens</td>\n",
       "      <td>Gastroenterology</td>\n",
       "      <td>Hypertension</td>\n",
       "    </tr>\n",
       "    <tr>\n",
       "      <th>5</th>\n",
       "      <td>11</td>\n",
       "      <td>Child</td>\n",
       "      <td>Neurology</td>\n",
       "      <td>Arthritis</td>\n",
       "    </tr>\n",
       "    <tr>\n",
       "      <th>6</th>\n",
       "      <td>82</td>\n",
       "      <td>Senior Citizens</td>\n",
       "      <td>Gastroenterology</td>\n",
       "      <td>Fracture</td>\n",
       "    </tr>\n",
       "    <tr>\n",
       "      <th>7</th>\n",
       "      <td>5</td>\n",
       "      <td>Child</td>\n",
       "      <td>Neurology</td>\n",
       "      <td>Tuberculosis</td>\n",
       "    </tr>\n",
       "    <tr>\n",
       "      <th>8</th>\n",
       "      <td>98</td>\n",
       "      <td>Senior Citizens</td>\n",
       "      <td>Gastroenterology</td>\n",
       "      <td>Diabetes</td>\n",
       "    </tr>\n",
       "    <tr>\n",
       "      <th>9</th>\n",
       "      <td>14</td>\n",
       "      <td>Teen</td>\n",
       "      <td>Neurology</td>\n",
       "      <td>Diabetes</td>\n",
       "    </tr>\n",
       "  </tbody>\n",
       "</table>\n",
       "</div>"
      ],
      "text/plain": [
       "   Ages     Age_Category        Department     Diagnosis\n",
       "0     7            Child       Orthopedics      Fracture\n",
       "1    74  Senior Citizens       Orthopedics      COVID-19\n",
       "2    24            Adult       Orthopedics        Asthma\n",
       "3    57            Adult  Gastroenterology  Tuberculosis\n",
       "4    75  Senior Citizens  Gastroenterology  Hypertension\n",
       "5    11            Child         Neurology     Arthritis\n",
       "6    82  Senior Citizens  Gastroenterology      Fracture\n",
       "7     5            Child         Neurology  Tuberculosis\n",
       "8    98  Senior Citizens  Gastroenterology      Diabetes\n",
       "9    14             Teen         Neurology      Diabetes"
      ]
     },
     "execution_count": 93,
     "metadata": {},
     "output_type": "execute_result"
    }
   ],
   "source": [
    "df=pd.DataFrame({'Ages':ages,'Age_Category':age_category,'Department':departments,'Diagnosis':diagnosis})\n",
    "df"
   ]
  },
  {
   "cell_type": "code",
   "execution_count": 95,
   "id": "a9ed2ccd-8d02-4ce2-86fa-b806061c1eb1",
   "metadata": {},
   "outputs": [
    {
     "data": {
      "text/plain": [
       "Text(0.5, 1.0, 'Top 10 Patients Age Distribution')"
      ]
     },
     "execution_count": 95,
     "metadata": {},
     "output_type": "execute_result"
    },
    {
     "data": {
      "image/png": "[encoded data removed]",
      "text/plain": [
       "<Figure size 640x480 with 1 Axes>"
      ]
     },
     "metadata": {},
     "output_type": "display_data"
    }
   ],
   "source": [
    "age_cat=df['Age_Category'].value_counts()\n",
    "age_cat.plot(kind='bar',color='skyblue')\n",
    "plt.title('Top 10 Patients Age Distribution')"
   ]
  },
  {
   "cell_type": "code",
   "execution_count": null,
   "id": "81cbd85d-fd94-4350-9f14-1f92faa8ea23",
   "metadata": {},
   "outputs": [],
   "source": [
    "# So, most of them are adults belonging to 18 to 60 age bracket "
   ]
  },
  {
   "cell_type": "code",
   "execution_count": 96,
   "id": "e84ad0e5-d175-4c73-9567-bf6e96713418",
   "metadata": {},
   "outputs": [
    {
     "data": {
      "text/plain": [
       "Text(0.5, 1.0, 'Top 10 Patients Distribution By Department')"
      ]
     },
     "execution_count": 96,
     "metadata": {},
     "output_type": "execute_result"
    },
    {
     "data": {
      "image/png": "[encoded data removed]",
      "text/plain": [
       "<Figure size 640x480 with 1 Axes>"
      ]
     },
     "metadata": {},
     "output_type": "display_data"
    }
   ],
   "source": [
    "departments_cat=df['Department'].value_counts()\n",
    "departments_cat.plot(kind='bar',color='indigo')\n",
    "plt.title('Top 10 Patients Distribution By Department')"
   ]
  },
  {
   "cell_type": "code",
   "execution_count": null,
   "id": "43f83c30-e9e7-410b-9ae3-f4475f9af46b",
   "metadata": {},
   "outputs": [],
   "source": [
    "# Most of them belong to Gastroenterology department "
   ]
  },
  {
   "cell_type": "code",
   "execution_count": 97,
   "id": "08cab892-09e7-4351-8013-fbb9321b049f",
   "metadata": {},
   "outputs": [
    {
     "data": {
      "text/plain": [
       "Text(0.5, 1.0, 'Top 10 Patients Distribution By Diagnosis')"
      ]
     },
     "execution_count": 97,
     "metadata": {},
     "output_type": "execute_result"
    },
    {
     "data": {
      "image/png": "[encoded data removed]",
      "text/plain": [
       "<Figure size 640x480 with 1 Axes>"
      ]
     },
     "metadata": {},
     "output_type": "display_data"
    }
   ],
   "source": [
    "diagnosis_cat=df['Diagnosis'].value_counts()\n",
    "diagnosis_cat.plot(kind='bar',color='seagreen')\n",
    "plt.title('Top 10 Patients Distribution By Diagnosis')"
   ]
  },
  {
   "cell_type": "code",
   "execution_count": null,
   "id": "812f264a-fdba-46d0-ba9e-29aff6cf29a9",
   "metadata": {},
   "outputs": [],
   "source": [
    "# Most of them have fracture "
   ]
  },
  {
   "cell_type": "markdown",
   "id": "aec231d3-09e3-4095-8dc3-f684fd53c3f9",
   "metadata": {},
   "source": [
    "#### For patients who got readmitted within 30 days, what was their most common original diagnosis?\n"
   ]
  },
  {
   "cell_type": "code",
   "execution_count": 286,
   "id": "3606ee1d-5b45-4775-a5c7-2a391b7483c4",
   "metadata": {},
   "outputs": [
    {
     "data": {
      "image/png": "[encoded data removed]",
      "text/plain": [
       "<Figure size 640x480 with 1 Axes>"
      ]
     },
     "metadata": {},
     "output_type": "display_data"
    }
   ],
   "source": [
    "most_common_diagnosis=health_data[health_data['Readmission_Within_30_Days']=='Yes'].groupby('Diagnosis').size().sort_values(ascending=False).head(5)\n",
    "most_common_diagnosis.plot(kind='barh', color='teal')\n",
    "plt.title(\"Top Diagnoses in Readmitted Patients (Within 30 Days)\")\n",
    "plt.xlabel(\"Number of Patients\")\n",
    "plt.gca().invert_yaxis()\n",
    "plt.show()"
   ]
  },
  {
   "cell_type": "markdown",
   "id": "2bbb2424-f5ce-47b3-89bc-ca4b210f7467",
   "metadata": {},
   "source": [
    "#### Create a cohort of patients who were \"recovered\" vs. \"ongoing\" vs. \"deceased\" — what is their average treatment cost and stay?\n"
   ]
  },
  {
   "cell_type": "code",
   "execution_count": 292,
   "id": "d06fb5cb-f6fe-4378-bff9-97e07b6cddec",
   "metadata": {},
   "outputs": [],
   "source": [
    "recovered_cohort=health_data[health_data['Outcome']=='Recovered']\n",
    "ongoing_cohort=health_data[health_data['Outcome']=='Ongoing']\n",
    "deceased_cohort=health_data[health_data['Outcome']=='Deceased']"
   ]
  },
  {
   "cell_type": "code",
   "execution_count": 298,
   "id": "5688cd1a-8d12-40f8-9946-f8cb266debc2",
   "metadata": {},
   "outputs": [
    {
     "data": {
      "text/plain": [
       "Treatment_Cost    9870.0\n",
       "Length_of_Stay      16.0\n",
       "dtype: float64"
      ]
     },
     "execution_count": 298,
     "metadata": {},
     "output_type": "execute_result"
    }
   ],
   "source": [
    "recovered_cohort[['Treatment_Cost','Length_of_Stay']].mean().round()"
   ]
  },
  {
   "cell_type": "code",
   "execution_count": 300,
   "id": "0427761e-dbc2-4e6d-b341-8173cff58c5f",
   "metadata": {},
   "outputs": [
    {
     "data": {
      "text/plain": [
       "Treatment_Cost    10193.0\n",
       "Length_of_Stay       14.0\n",
       "dtype: float64"
      ]
     },
     "execution_count": 300,
     "metadata": {},
     "output_type": "execute_result"
    }
   ],
   "source": [
    "ongoing_cohort[['Treatment_Cost','Length_of_Stay']].mean().round()"
   ]
  },
  {
   "cell_type": "code",
   "execution_count": 303,
   "id": "aed0fe33-95ac-4e14-b46e-e54fbd885d5e",
   "metadata": {},
   "outputs": [
    {
     "data": {
      "text/plain": [
       "Treatment_Cost    11043.0\n",
       "Length_of_Stay       15.0\n",
       "dtype: float64"
      ]
     },
     "execution_count": 303,
     "metadata": {},
     "output_type": "execute_result"
    }
   ],
   "source": [
    "deceased_cohort[['Treatment_Cost','Length_of_Stay']].mean().round()"
   ]
  },
  {
   "cell_type": "markdown",
   "id": "67d914c1-e31d-4016-b7c8-04aeb03bb41c",
   "metadata": {},
   "source": [
    "# Summary Report"
   ]
  },
  {
   "cell_type": "markdown",
   "id": "95afb9d3-c3d1-468c-90e0-931ef3271ac4",
   "metadata": {},
   "source": [
    "### 🩺 Patient Demographics\n",
    "* Average Age of Patients: 51.66 years\n",
    "\n",
    "* Gender Distribution:\n",
    "\n",
    "    - Female: 41.64%\n",
    "\n",
    "    - Male: 39.64%\n",
    "\n",
    "    - Other: 18.73%\n",
    "\n",
    "* Top 5 Cities by Patient Count:\n",
    "\n",
    "    * Lake David (3)\n",
    "    \n",
    "    * Smithshire (2)\n",
    "    \n",
    "    * East Christopher (2)\n",
    "    \n",
    "    * Christopherville (2)\n",
    "    \n",
    "    * Brownburgh (2)\n",
    "\n"
   ]
  },
  {
   "cell_type": "markdown",
   "id": "58d6814d-1842-4399-b581-048229459e7e",
   "metadata": {},
   "source": [
    "#### 🏥 Hospital Departments & Admissions\n",
    "* Admissions per Department:\n",
    "\n",
    "    - Pediatrics: 88\n",
    "    \n",
    "    - Gastroenterology: 85\n",
    "    \n",
    "    - Neurology: 84\n",
    "    \n",
    "    - General Medicine: 81\n",
    "    \n",
    "    - Oncology: 72\n",
    "    \n",
    "    - Orthopedics: 67\n",
    "    \n",
    "    - Cardiology: 67\n",
    " \n",
    "* Average Length of Stay by Department:\n",
    "\n",
    "    * Gastroenterology: 17 days\n",
    "    \n",
    "    * General Medicine / Orthopedics: 16 days\n",
    "    \n",
    "    * Cardiology / Neurology / Oncology: 15 days\n",
    "    \n",
    "    * Pediatrics: 14 days"
   ]
  },
  {
   "cell_type": "markdown",
   "id": "32e014bd-ea75-4643-957b-b36e75b2fcaf",
   "metadata": {},
   "source": [
    "#### 💰 Treatment Cost Analysis\n",
    "\n",
    "* Overall Average Treatment Cost: ₹10,358.99\n",
    "\n",
    "* Average Treatment Cost by Department:\n",
    "\n",
    "    * Oncology: ₹11,041.99 (Highest)\n",
    "    \n",
    "    * Gastroenterology: ₹10,877.19\n",
    "    \n",
    "    * Neurology: ₹10,465.36\n",
    "    \n",
    "    * Pediatrics: ₹10,194.06\n",
    "    \n",
    "    * Orthopedics: ₹10,067.50\n",
    "    \n",
    "    * General Medicine: ₹9,996.07\n",
    "\n",
    "Cardiology: ₹9,781.11 (Lowest)\n",
    "\n",
    "City with Highest Avg. Treatment Cost: Kevinberg"
   ]
  },
  {
   "cell_type": "markdown",
   "id": "7b3f047b-7a15-4d1a-a59e-7821388edd2f",
   "metadata": {},
   "source": [
    "#### 🧾 Medical Insights\n",
    "* Top 3 Diagnoses:\n",
    "\n",
    "   - Fracture (77 cases)\n",
    "    \n",
    "   - Tuberculosis (69 cases)\n",
    "    \n",
    "   - Migraine (65 cases)\n",
    "\n",
    "* Average Stay by Diagnosis:\n",
    "\n",
    "   - Longest: Arthritis, Fracture (18 days)\n",
    "    \n",
    "   - Shortest: Migraine (12 days)\n",
    "\n",
    "* Readmission Rate (within 30 days):\n",
    "\n",
    "   - Yes: 17.46%\n",
    "    \n",
    "   - No: 82.54%\n",
    "\n",
    "* Readmission by Age:\n",
    "\n",
    "   - > 60 years: 13.90%\n",
    "    \n",
    "   - < 60 years: 20.25%\n",
    "\n",
    " Key findings -: Younger patients have a higher readmission rate."
   ]
  },
  {
   "cell_type": "markdown",
   "id": "414a0959-3c14-43ba-9ead-38089bd53f44",
   "metadata": {},
   "source": [
    "#### 💳 Financial & Mortality Overview\n",
    "* Payment Methods Used:\n",
    "\n",
    "    - Insurance: 161\n",
    "    \n",
    "    - Medicare: 141\n",
    "    \n",
    "    - Credit Card: 124\n",
    "\n",
    "    - Cash: 118\n",
    "\n",
    "* Department-wise Mortality Rate:\n",
    "\n",
    "    - Highest: Orthopedics (44.78%)\n",
    "\n",
    "    - Oncology (41.67%)\n",
    "\n",
    "    - Cardiology (34.33%)\n",
    "\n",
    "    - General Medicine (33.33%)\n",
    "\n",
    "    - Neurology (32.14%)\n",
    "\n",
    "    - Pediatrics (29.55%)\n",
    "\n",
    "    Lowest: Gastroenterology (25.88%)"
   ]
  },
  {
   "cell_type": "code",
   "execution_count": null,
   "id": "0834f06e-ba2b-46e7-8e9d-98eac4009fb3",
   "metadata": {},
   "outputs": [],
   "source": []
  },
  {
   "cell_type": "code",
   "execution_count": null,
   "id": "853b38d8-8175-4e7a-b4f0-ada401c7c6b8",
   "metadata": {},
   "outputs": [],
   "source": []
  },
  {
   "cell_type": "code",
   "execution_count": null,
   "id": "fc610351-6862-4311-a995-878bfa314b47",
   "metadata": {},
   "outputs": [],
   "source": []
  },
  {
   "cell_type": "code",
   "execution_count": null,
   "id": "da775ca2-c060-4bc6-ad70-7e11bea7ccba",
   "metadata": {},
   "outputs": [],
   "source": []
  },
  {
   "cell_type": "code",
   "execution_count": null,
   "id": "253e3242-b111-41c7-b403-d54813952ed4",
   "metadata": {},
   "outputs": [],
   "source": []
  },
  {
   "cell_type": "code",
   "execution_count": null,
   "id": "c172aec3-0153-4747-ae94-872652d2c02e",
   "metadata": {},
   "outputs": [],
   "source": []
  }
 ],
 "metadata": {
  "kernelspec": {
   "display_name": "Python 3 (ipykernel)",
   "language": "python",
   "name": "python3"
  },
  "language_info": {
   "codemirror_mode": {
    "name": "ipython",
    "version": 3
   },
   "file_extension": ".py",
   "mimetype": "text/x-python",
   "name": "python",
   "nbconvert_exporter": "python",
   "pygments_lexer": "ipython3",
   "version": "3.10.16"
  }
 },
 "nbformat": 4,
 "nbformat_minor": 5
}
